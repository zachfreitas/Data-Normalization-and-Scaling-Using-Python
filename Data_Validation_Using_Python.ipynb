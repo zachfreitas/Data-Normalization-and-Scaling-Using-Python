{
 "cells": [
  {
   "cell_type": "markdown",
   "metadata": {},
   "source": [
    "# Overview\n",
    "Data validation is the process of ensuring that data is accurate, complete, and consistent. It involves verifying that data meets certain criteria, such as data type, value range, and formatting rules. Data quality control, on the other hand, is a broader process that includes all activities related to maintaining and improving the quality of data. It involves identifying and addressing data quality issues, implementing processes to improve data quality, and ensuring that data is fit for purpose.\n",
    "\n",
    "Data validation and quality control are important in data wrangling, which is the process of preparing data for analysis. During data wrangling, data may be sourced from various systems, and it may need to be cleaned, transformed, or combined with other data. This process can introduce errors or inconsistencies, which can negatively impact the accuracy and reliability of subsequent analyses.\n",
    "\n",
    "Data validation and quality control are important for several reasons:\n",
    "\n",
    "* Ensuring Accurate Analysis: Data that is not accurate, complete, or consistent can lead to incorrect or misleading analysis results. By validating and controlling the quality of data, we can ensure that the data is accurate and reliable, leading to more accurate and meaningful analysis.\n",
    "* Minimizing Errors and Inconsistencies: Errors and inconsistencies in data can be time-consuming to identify and correct, and they can lead to delays in analysis or even incorrect conclusions. By validating and controlling the quality of data, we can minimize errors and inconsistencies and prevent the need for corrective measures later in the analysis process.\n",
    "* Reducing Risk: Incorrect or incomplete data can lead to inaccurate analysis results, which can have serious consequences for business decisions. By validating and controlling the quality of data, we can reduce the risk of making decisions based on inaccurate data.\n",
    "\n",
    "In this module, we will cover the following topics:\n",
    "\n",
    "I. Data profiling: Examining and analyzing data to identify relationships and quality issues.\n",
    "\n",
    "II. Missing value analysis: Identifying and handling missing data in a dataset.\n",
    "\n",
    "III. Outlier detection: Identifying data points that deviate significantly from the majority of the data.\n",
    "\n",
    "IV. Checking data accuracy: Verifying the correctness and consistency of data.\n",
    "\n",
    "## Learning Objectives\n",
    "In this module, the learners will:\n",
    "\n",
    "* Understand the importance of data validation and quality control\n",
    "* Use data profiling techniques to identify data quality issues\n",
    "* Evaluate the different methods for analyzing missing values\n",
    "* Evaluate the effectiveness of outlier detection techniques\n",
    "* Discuss various approaches to measure data accuracy\n",
    "Let's get started!\n",
    "\n",
    "## Dataset\n",
    "Titanic dataset: This is a well-known and widely used dataset in the field of data analysis and machine learning. This dataset contains information about the passengers on the Titanic ship, including their demographic information, ticket information, and survival status. In this exercise, we're using the Titanic dataset to demonstrate data validation and quality control techniques.\n",
    "\n",
    "Here's a description of the columns in the dataset:\n",
    "\n",
    "* PassengerId: This column is a unique identifier assigned to each passenger.\n",
    "* Age: This column specifies the age of the passenger.\n",
    "* Name: This column specifies the name of the passenger.\n",
    "* Sex: This column specifies the gender of the passenger (Male or Female).\n",
    "* Survived: This column specifies whether the passenger survived the Titanic disaster or not. The values in this column can either be 0 (did not survive) or 1 (survived).\n",
    "* Pclass (Passenger Class): This column specifies the class of the passenger (1st, 2nd, or 3rd class).\n",
    "* SibSp (Siblings/Spouses Aboard): This column specifies the number of siblings or spouses the passenger was traveling with.\n",
    "* Parch (Parents/Children Aboard): This column specifies the number of parents or children the passenger was traveling with.\n",
    "* Ticket: This column specifies the ticket number assigned to the passenger.\n",
    "* Fare: This column specifies the fare paid by the passenger for their ticket.\n",
    "* Cabin: This column specifies the cabin number assigned to the passenger.\n",
    "* Embarked: This column specifies the port where the passenger boarded the Titanic (C = Cherbourg; Q = Queenstown; S = Southampton)."
   ]
  },
  {
   "cell_type": "markdown",
   "metadata": {},
   "source": [
    "# Data Profiling\n",
    "## What is data profiling?\n",
    "Data profiling is the process of examining and analyzing data to identify relationships and quality issues. It involves assessing the completeness, accuracy, consistency, and uniqueness of data.\n",
    "\n",
    "## Why is it important?\n",
    "Data profiling can save time and effort in data validation. By identifying data quality issues early in the process, data validators can focus their attention on correcting these issues and avoid spending time validating data that is of low quality or has obvious issues. Data profiling enables effective data analysis by ensuring that the data is accurate and reliable.\n",
    "\n",
    "Data profiling supports data governance by providing an understanding of the data that is being managed. By profiling the data, we can understand the structure of the data, the data quality issues, and the relationships between data elements. This information can help in the development of data governance policies and procedures."
   ]
  },
  {
   "cell_type": "markdown",
   "metadata": {},
   "source": [
    "## Data type analysis\n",
    "Data type analysis is a key component of data profiling. It involves examining the data to identify the data types of different fields or columns, such as numeric, categorical, date/time, or text. This analysis can help you understand the nature of the data and identify potential issues or data quality problems.\n",
    "\n",
    "Suppose you want to perform data type analysis on the Titanic dataset to identify the data types of the different fields."
   ]
  },
  {
   "cell_type": "code",
   "execution_count": 23,
   "metadata": {},
   "outputs": [
    {
     "name": "stdout",
     "output_type": "stream",
     "text": [
      "PassengerId      int64\n",
      "Survived         int64\n",
      "Pclass           int64\n",
      "Name            object\n",
      "Sex             object\n",
      "Age            float64\n",
      "SibSp            int64\n",
      "Parch            int64\n",
      "Ticket          object\n",
      "Fare           float64\n",
      "Cabin           object\n",
      "Embarked        object\n",
      "dtype: object\n"
     ]
    }
   ],
   "source": [
    "import pandas as pd\n",
    "\n",
    "# Load the Titanic dataset\n",
    "df = pd.read_csv(\"https://staticasssets.blob.core.windows.net/open-ai-coderunner/scripts/titanic.csv\")\n",
    "\n",
    "# Display the data types of the columns\n",
    "print(df.dtypes)"
   ]
  },
  {
   "cell_type": "markdown",
   "metadata": {},
   "source": [
    "From this output, we can see that the 'PassengerId', 'Survived', 'Pclass', 'Age', 'SibSp', 'Parch', and 'Fare' columns are numeric, while the 'Name', 'Sex', 'Ticket', 'Cabin', and 'Embarked' columns are text or categorical.\n",
    "\n",
    "### NOTE\n",
    "In addition to identifying the data types, it's also important to check if the data types are correct. For example, if a column should be numeric but is imported as text, it could cause issues in subsequent analyses. Data type analysis is a crucial first step in identifying and addressing these issues.\n",
    "\n",
    "To perform data type analysis on the Titanic dataset, you can also use the 'info()' method of a Pandas dataframe."
   ]
  },
  {
   "cell_type": "code",
   "execution_count": 24,
   "metadata": {},
   "outputs": [
    {
     "name": "stdout",
     "output_type": "stream",
     "text": [
      "<class 'pandas.core.frame.DataFrame'>\n",
      "RangeIndex: 891 entries, 0 to 890\n",
      "Data columns (total 12 columns):\n",
      " #   Column       Non-Null Count  Dtype  \n",
      "---  ------       --------------  -----  \n",
      " 0   PassengerId  891 non-null    int64  \n",
      " 1   Survived     891 non-null    int64  \n",
      " 2   Pclass       891 non-null    int64  \n",
      " 3   Name         891 non-null    object \n",
      " 4   Sex          891 non-null    object \n",
      " 5   Age          714 non-null    float64\n",
      " 6   SibSp        891 non-null    int64  \n",
      " 7   Parch        891 non-null    int64  \n",
      " 8   Ticket       891 non-null    object \n",
      " 9   Fare         891 non-null    float64\n",
      " 10  Cabin        204 non-null    object \n",
      " 11  Embarked     889 non-null    object \n",
      "dtypes: float64(2), int64(5), object(5)\n",
      "memory usage: 83.7+ KB\n",
      "None\n"
     ]
    }
   ],
   "source": [
    "import pandas as pd\n",
    "\n",
    "# Load the Titanic dataset\n",
    "df = pd.read_csv(\"https://staticasssets.blob.core.windows.net/open-ai-coderunner/scripts/titanic.csv\")\n",
    "\n",
    "# Display information about the data types of each column\n",
    "print(df.info())"
   ]
  },
  {
   "cell_type": "markdown",
   "metadata": {},
   "source": [
    "The output of this code snippet will display the data types of each column in the Titanic dataset, as well as the number of non-null values in each column. This can help you identify any issues with the data types of the columns in the dataset, such as missing values or data types that do not match the intended format."
   ]
  },
  {
   "cell_type": "markdown",
   "metadata": {},
   "source": [
    "## Value frequency analysis\n",
    "This is a technique used in data profiling to identify the frequency of values in a particular column or field of a dataset. It involves examining the frequency of each unique value in the column and identifying any outliers, or potential data quality issues.\n",
    "\n",
    "For example, we can use value frequency analysis to identify the number of passengers in each ticket class, the number of male and female passengers, or the number of passengers who survived or did not survive. Here is the code for performing value frequency analysis on the 'Sex' column:"
   ]
  },
  {
   "cell_type": "code",
   "execution_count": 25,
   "metadata": {},
   "outputs": [
    {
     "name": "stdout",
     "output_type": "stream",
     "text": [
      "male      577\n",
      "female    314\n",
      "Name: Sex, dtype: int64\n"
     ]
    }
   ],
   "source": [
    "import pandas as pd\n",
    "\n",
    "# Load the Titanic dataset\n",
    "df = pd.read_csv(\"https://staticasssets.blob.core.windows.net/open-ai-coderunner/scripts/titanic.csv\")\n",
    "\n",
    "# Display the frequency of values in the \"Sex\" column\n",
    "print(df[\"Sex\"].value_counts())"
   ]
  },
  {
   "cell_type": "markdown",
   "metadata": {},
   "source": [
    "The above code displays the frequency of values in the 'Sex' column. We can see that there were 577 males on board the Titanic and 314 females.\n",
    "\n",
    "We can also perform value frequency analysis on other columns in the Titanic dataset. For example, we can use the following code to display the frequency of values in the 'Pclass' column:"
   ]
  },
  {
   "cell_type": "code",
   "execution_count": 26,
   "metadata": {},
   "outputs": [
    {
     "name": "stdout",
     "output_type": "stream",
     "text": [
      "3    491\n",
      "1    216\n",
      "2    184\n",
      "Name: Pclass, dtype: int64\n"
     ]
    }
   ],
   "source": [
    "import pandas as pd\n",
    "\n",
    "# Load the Titanic dataset\n",
    "df = pd.read_csv(\"https://staticasssets.blob.core.windows.net/open-ai-coderunner/scripts/titanic.csv\")\n",
    "\n",
    "# Display the frequency of values in the \"Pclass\" column\n",
    "print(df[\"Pclass\"].value_counts())"
   ]
  },
  {
   "cell_type": "markdown",
   "metadata": {},
   "source": [
    "In the code above, we can see that the majority of passengers on the Titanic were in third class (491 passengers), followed by first class (216 passengers) and second class (184 passengers)."
   ]
  },
  {
   "cell_type": "markdown",
   "metadata": {},
   "source": [
    "## Value distribution analysis\n",
    "This is a data profiling technique used to examine the distribution of values within a given column or field in a dataset. This technique helps to identify the spread of data, the presence of outliers or missing values, and any potential data quality issues.\n",
    "\n",
    "In the context of the Titanic dataset, value distribution analysis can help data validators understand the distribution of values for various attributes, such as the age, fare, and number of siblings/spouses or parents/children aboard the ship. For example, it can help to identify if there are any extreme values or outliers, which could impact the accuracy of subsequent analyses.\n",
    "\n",
    "Here is the code for performing value distribution analysis on the 'Age' column:"
   ]
  },
  {
   "cell_type": "code",
   "execution_count": 27,
   "metadata": {},
   "outputs": [
    {
     "data": {
      "image/png": "[encoded data removed]",
      "text/plain": [
       "<Figure size 640x480 with 1 Axes>"
      ]
     },
     "metadata": {},
     "output_type": "display_data"
    }
   ],
   "source": [
    "import pandas as pd\n",
    "import matplotlib.pyplot as plt\n",
    "\n",
    "# Load the Titanic dataset\n",
    "df = pd.read_csv(\"https://staticasssets.blob.core.windows.net/open-ai-coderunner/scripts/titanic.csv\")\n",
    "\n",
    "# Plot the distribution of values in the \"Age\" column\n",
    "plt.hist(df[\"Age\"].dropna(), bins=20)\n",
    "plt.title(\"Age Distribution on the Titanic\")\n",
    "plt.xlabel(\"Age\")\n",
    "plt.ylabel(\"Count\")\n",
    "plt.show()"
   ]
  },
  {
   "cell_type": "markdown",
   "metadata": {},
   "source": [
    "The code above plots the distribution of values in the 'Age' column using a histogram. The 'dropna()' function is used to remove any missing values from the column. The 'bins' parameter specifies the number of bins to use in the histogram.\n",
    "\n",
    "From this histogram, we can see that the age distribution on the Titanic is skewed to the right, with a peak around 20-30 years old. We can also see that there are some missing values in the 'Age' column, as indicated by the gap in the histogram.\n",
    "\n",
    "We can perform value distribution analysis on other columns in the Titanic dataset as well. For example, we can use the following code to plot the distribution of values in the 'Fare' column:"
   ]
  },
  {
   "cell_type": "code",
   "execution_count": 28,
   "metadata": {},
   "outputs": [
    {
     "data": {
      "image/png": "[encoded data removed]",
      "text/plain": [
       "<Figure size 640x480 with 1 Axes>"
      ]
     },
     "metadata": {},
     "output_type": "display_data"
    }
   ],
   "source": [
    "import pandas as pd\n",
    "import matplotlib.pyplot as plt\n",
    "\n",
    "# Load the Titanic dataset\n",
    "df = pd.read_csv(\"https://staticasssets.blob.core.windows.net/open-ai-coderunner/scripts/titanic.csv\")\n",
    "\n",
    "# Plot the distribution of values in the \"Fare\" column\n",
    "plt.hist(df[\"Fare\"], bins=20)\n",
    "plt.title(\"Fare Distribution on the Titanic\")\n",
    "plt.xlabel(\"Fare\")\n",
    "plt.ylabel(\"Count\")\n",
    "plt.show()"
   ]
  },
  {
   "cell_type": "markdown",
   "metadata": {},
   "source": [
    "The output will display a histogram of the fare distribution on the Titanic. According to the histogram, the fare range of 1 to 25 has the highest count compared to all other fare ranges."
   ]
  },
  {
   "cell_type": "markdown",
   "metadata": {},
   "source": [
    "## Data uniqueness analysis\n",
    "This is a data profiling technique used to identify unique values in a column or field in a dataset. This technique helps to ensure that there are no duplicate values or redundancy in the data, which can impact the accuracy of analyses and modeling.\n",
    "\n",
    "In the context of the Titanic dataset, data uniqueness analysis can be used to identify the number of unique values for various attributes, such as the passenger ID, name, and ticket number. This analysis can help you to ensure that there are no duplicate entries for a particular passenger or ticket, which could result in inaccurate analyses.\n",
    "\n",
    "Here is the code for performing data uniqueness analysis on the 'Name' column:"
   ]
  },
  {
   "cell_type": "code",
   "execution_count": 29,
   "metadata": {},
   "outputs": [
    {
     "name": "stdout",
     "output_type": "stream",
     "text": [
      "Number of unique names:  891\n"
     ]
    }
   ],
   "source": [
    "import pandas as pd\n",
    "\n",
    "# Load the Titanic dataset\n",
    "df = pd.read_csv(\"https://staticasssets.blob.core.windows.net/open-ai-coderunner/scripts/titanic.csv\")\n",
    "\n",
    "# Calculate the number of unique values in the \"Name\" column\n",
    "unique_names = df[\"Name\"].nunique()\n",
    "\n",
    "# Print the number of unique names\n",
    "print(\"Number of unique names: \", unique_names)\n",
    "\n"
   ]
  },
  {
   "cell_type": "markdown",
   "metadata": {},
   "source": [
    "The code above calculates the number of unique values in the 'Name' column using the 'nunique()' function. The observation that the number of unique names in the 'Name' column of the dataset matches the number of rows in the original dataset, which is 891, implies that each row represents a distinct individual. This suggests that the dataset is free of duplicate values in the 'Name' column.\n",
    "\n",
    "We can perform data uniqueness analysis on other columns in the Titanic dataset as well. For example, we can use the following code to calculate the number of unique values in the 'Ticket' column:"
   ]
  },
  {
   "cell_type": "code",
   "execution_count": 30,
   "metadata": {},
   "outputs": [
    {
     "name": "stdout",
     "output_type": "stream",
     "text": [
      "Number of unique tickets:  681\n"
     ]
    }
   ],
   "source": [
    "import pandas as pd\n",
    "\n",
    "# Load the Titanic dataset\n",
    "df = pd.read_csv(\"https://staticasssets.blob.core.windows.net/open-ai-coderunner/scripts/titanic.csv\")\n",
    "\n",
    "# Calculate the number of unique values in the \"Ticket\" column\n",
    "unique_tickets = df[\"Ticket\"].nunique()\n",
    "\n",
    "\n",
    "# Print the number of unique tickets\n",
    "print(\"Number of unique tickets: \", unique_tickets)\n",
    "\n"
   ]
  },
  {
   "cell_type": "markdown",
   "metadata": {},
   "source": [
    "The output will display the number of unique tickets in the dataset."
   ]
  },
  {
   "cell_type": "markdown",
   "metadata": {},
   "source": [
    "## Statistical summary analysis\n",
    "Statistical summary analysis is a technique used in data profiling to summarize the main characteristics of a dataset. This type of analysis provides valuable information about the data, including the central tendency (mean and median), variability (standard deviation), distribution (minimum, 25th percentile, 50th percentile, 75th percentile, and maximum), and shape of the data. By examining the statistical properties of the data, we can identify potential data quality issues, such as missing or erroneous values, outliers, and inconsistencies.\n",
    "\n",
    "The following code demonstrates how to use Pandas to get a statistical summary of the 'Age' column in the Titanic dataset:"
   ]
  },
  {
   "cell_type": "code",
   "execution_count": 31,
   "metadata": {},
   "outputs": [
    {
     "name": "stdout",
     "output_type": "stream",
     "text": [
      "count    714.000000\n",
      "mean      29.699118\n",
      "std       14.526497\n",
      "min        0.420000\n",
      "25%       20.125000\n",
      "50%       28.000000\n",
      "75%       38.000000\n",
      "max       80.000000\n",
      "Name: Age, dtype: float64\n"
     ]
    }
   ],
   "source": [
    "import pandas as pd\n",
    "\n",
    "# Load the Titanic dataset\n",
    "df = pd.read_csv(\"https://staticasssets.blob.core.windows.net/open-ai-coderunner/scripts/titanic.csv\")\n",
    "\n",
    "# Get a statistical summary of the \"Age\" column\n",
    "age_summary = df[\"Age\"].describe()\n",
    "\n",
    "# Print the statistical summary\n",
    "print(age_summary)"
   ]
  },
  {
   "cell_type": "markdown",
   "metadata": {},
   "source": [
    "This code uses the 'describe()' function in Pandas to get a statistical summary of the 'Age' column. The output will display the count, mean, standard deviation, minimum, and maximum values of the 'Age' column, which can provide insights into the age distribution of the passengers.\n",
    "\n",
    "### CAVEAT\n",
    "Statistical summary analysis in data validation can be limited by the quality and completeness of the data. If the data contains errors, inconsistencies, or missing values, the results of the analysis may be inaccurate or misleading. It's important to carefully validate and clean the data before conducting any statistical analysis to ensure that the results are reliable and meaningful."
   ]
  },
  {
   "cell_type": "markdown",
   "metadata": {},
   "source": [
    "## Data correlation analysis\n",
    "This analysis is a type of data profiling that examines the relationship between different variables in a dataset. Specifically, it looks at the strength and direction of the correlation between pairs of variables, which can help identify potential patterns and trends in the data.\n",
    "\n",
    "In the case of the Titanic dataset, we can perform a data correlation analysis between the 'Sex' and 'Survived' to see if there is any relationship between a passenger's sex and their likelihood of survival. This can help us gain insights into any potential gender biases that may have existed during the Titanic disaster.\n",
    "\n",
    "To perform the analysis, we can start by creating a pivot table that shows the count of passengers who survived and who didn't survive for each sex:"
   ]
  },
  {
   "cell_type": "code",
   "execution_count": 32,
   "metadata": {},
   "outputs": [
    {
     "name": "stdout",
     "output_type": "stream",
     "text": [
      "The correlation coefficient between Sex and Survived is -1.000\n"
     ]
    }
   ],
   "source": [
    "import pandas as pd\n",
    "\n",
    "# Load the Titanic dataset\n",
    "df = pd.read_csv(\"https://staticasssets.blob.core.windows.net/open-ai-coderunner/scripts/titanic.csv\")\n",
    "\n",
    "# Group the data by 'Sex' and 'Survived'\n",
    "grouped = df.groupby(['Sex', 'Survived'])\n",
    "\n",
    "# Compute the correlation between 'Sex' and 'Survived'\n",
    "corr = grouped.size().unstack().corr().iloc[0,1]\n",
    "\n",
    "# Print the correlation coefficient\n",
    "print(f\"The correlation coefficient between Sex and Survived is {corr:.3f}\")"
   ]
  },
  {
   "cell_type": "markdown",
   "metadata": {},
   "source": [
    "In this code, we group the data by 'Sex' and 'Survived'. We then compute the correlation between the two fields using the 'size()' method to count the number of occurrences of each combination of values, the 'unstack()' method to reshape the data into a two-dimensional table, the 'corr()' method to compute the correlation matrix, and the 'iloc' indexer to extract the correlation coefficient between 'Sex' and 'Survived'.\n",
    "\n",
    "This result indicates a strong negative correlation between the 'Sex' and 'Survived' fields, which means that female passengers were much more likely to survive than male passengers. We can also visualize this relationship using a bar chart:"
   ]
  },
  {
   "cell_type": "code",
   "execution_count": 33,
   "metadata": {},
   "outputs": [
    {
     "data": {
      "image/png": "[encoded data removed]",
      "text/plain": [
       "<Figure size 640x480 with 1 Axes>"
      ]
     },
     "metadata": {},
     "output_type": "display_data"
    }
   ],
   "source": [
    "import pandas as pd\n",
    "import matplotlib.pyplot as plt\n",
    "\n",
    "# Load the Titanic dataset\n",
    "df = pd.read_csv(\"https://staticasssets.blob.core.windows.net/open-ai-coderunner/scripts/titanic.csv\")\n",
    "\n",
    "# Group the data by 'Sex' and 'Survived'\n",
    "grouped = df.groupby(['Sex', 'Survived'])\n",
    "\n",
    "# Compute the count of survivors and non-survivors by sex\n",
    "counts = grouped.size().unstack()\n",
    "\n",
    "# Plot the bar chart\n",
    "counts.plot(kind='bar', stacked=True)\n",
    "plt.xlabel('Sex')\n",
    "plt.ylabel('Count')\n",
    "plt.xticks(rotation=0)\n",
    "plt.title('Survivors and Non-Survivors by Sex')\n",
    "plt.legend(['Did not Survive', 'Survived'])\n",
    "plt.show()\n",
    "\n"
   ]
  },
  {
   "cell_type": "markdown",
   "metadata": {},
   "source": [
    "This code will create a bar chart showing the count of survivors and non-survivors by sex. The bars are stacked to show the total count for each sex, and the legend shows which color corresponds to survivors and non-survivors."
   ]
  },
  {
   "cell_type": "markdown",
   "metadata": {},
   "source": [
    "# Missing Values Analysis\n",
    "## What is missing values analysis?\n",
    "Missing value analysis is a process of identifying and handling missing data in a dataset. Missing data refers to any observation or value that is absent, unknown, or incomplete in a dataset. Missing data can be a result of various reasons such as human errors during data collection, data processing errors, or even intentional omissions.\n",
    "\n",
    "## Why is it important?\n",
    "Missing value analysis is an important step in data validation because missing data can cause problems in data analysis and may lead to incorrect conclusions. For example, omitting incomplete cases may result in biased estimates and lost statistical power. Moreover, missing data can also affect the accuracy of data mining models.\n",
    "\n",
    "As a result, the objective of missing value analysis is to determine the extent of missing data and determine the optimal approach to handle the missing values. The analysis includes techniques for identifying missing data, imputing missing values, and validating the accuracy of the imputed data. By conducting a missing value analysis, we can ensure that the data is complete, accurate, and unbiased, which is essential for proper data analysis and modeling.\n",
    "\n"
   ]
  },
  {
   "cell_type": "markdown",
   "metadata": {},
   "source": [
    "## Identify missing values\n",
    "Identifying missing values is an important step in data profiling to ensure the quality and reliability of the dataset. One way to do this is by using the 'isna()' function in Pandas, which allows you to check for missing values in a dataset and returns a boolean value of True for each missing value and False for each non-missing value.\n",
    "\n",
    "For the Titanic dataset, we can use the 'isna()' function to identify missing values in the 'Age' and 'Survived' columns. This will help us to determine if any data is missing and to decide on a strategy for handling the missing values.\n",
    "\n",
    "Here's an example of how to use the 'isna()' function on the Titanic dataset to identify missing values in the 'Age' and 'Survived' columns:"
   ]
  },
  {
   "cell_type": "code",
   "execution_count": 34,
   "metadata": {},
   "outputs": [
    {
     "name": "stdout",
     "output_type": "stream",
     "text": [
      "The 'Age' column has 177 missing values.\n",
      "The 'Survived' column has 0 missing values.\n"
     ]
    }
   ],
   "source": [
    "import pandas as pd\n",
    "\n",
    "# Load the Titanic dataset\n",
    "df = pd.read_csv(\"https://staticasssets.blob.core.windows.net/open-ai-coderunner/scripts/titanic.csv\")\n",
    "\n",
    "# Check for missing values in the 'Age' column\n",
    "age_missing = df['Age'].isna().sum()\n",
    "print(f\"The 'Age' column has {age_missing} missing values.\")\n",
    "\n",
    "# Check for missing values in the 'Survived' column\n",
    "survived_missing = df['Survived'].isna().sum()\n",
    "print(f\"The 'Survived' column has {survived_missing} missing values.\")\n",
    "\n"
   ]
  },
  {
   "cell_type": "markdown",
   "metadata": {},
   "source": [
    "In this example, we check for missing values in the 'Age' column by calling the 'isna()' method on the 'Age' column of the Titanic DataFrame, which returns a Boolean series indicating whether each element in the column is missing or not. The 'sum()' method is then called on this Boolean series to count the number of missing values in the column. Next, we used the same method to identify any missing values in the 'Survived' column.\n",
    "\n",
    "\n",
    "We can use the following code to get the number of missing values in each column:"
   ]
  },
  {
   "cell_type": "code",
   "execution_count": 35,
   "metadata": {},
   "outputs": [
    {
     "name": "stdout",
     "output_type": "stream",
     "text": [
      "The 'Age' column has 177 missing values.\n",
      "PassengerId      0\n",
      "Survived         0\n",
      "Pclass           0\n",
      "Name             0\n",
      "Sex              0\n",
      "Age            177\n",
      "SibSp            0\n",
      "Parch            0\n",
      "Ticket           0\n",
      "Fare             0\n",
      "Cabin          687\n",
      "Embarked         2\n",
      "dtype: int64\n"
     ]
    }
   ],
   "source": [
    "import pandas as pd\n",
    "\n",
    "# Load the Titanic dataset\n",
    "df = pd.read_csv(\"https://staticasssets.blob.core.windows.net/open-ai-coderunner/scripts/titanic.csv\")\n",
    "\n",
    "# Check for missing values in the 'Age' column\n",
    "age_missing = df['Age'].isna().sum()\n",
    "print(f\"The 'Age' column has {age_missing} missing values.\")\n",
    "\n",
    "print(df.isna().sum())\n",
    "\n"
   ]
  },
  {
   "cell_type": "markdown",
   "metadata": {},
   "source": [
    "This will return a Pandas Series with the number of missing values in each column of the Titanic dataset.\n",
    "\n",
    "Another useful method for identifying missing values in a Pandas DataFrame is the 'isnull()' method. This method returns a DataFrame of the same shape as the input DataFrame, but with boolean values indicating whether each element is missing or not. Similarly, the 'notnull()' method returns a DataFrame with boolean values indicating whether each element is not missing.\n",
    "\n",
    "We can also use the following code to get the number of missing values in each column using the 'isnull()' method:"
   ]
  },
  {
   "cell_type": "code",
   "execution_count": 36,
   "metadata": {},
   "outputs": [
    {
     "name": "stdout",
     "output_type": "stream",
     "text": [
      "The 'Age' column has 177 missing values.\n",
      "PassengerId      0\n",
      "Survived         0\n",
      "Pclass           0\n",
      "Name             0\n",
      "Sex              0\n",
      "Age            177\n",
      "SibSp            0\n",
      "Parch            0\n",
      "Ticket           0\n",
      "Fare             0\n",
      "Cabin          687\n",
      "Embarked         2\n",
      "dtype: int64\n"
     ]
    }
   ],
   "source": [
    "import pandas as pd\n",
    "\n",
    "# Load the Titanic dataset\n",
    "df = pd.read_csv(\"https://staticasssets.blob.core.windows.net/open-ai-coderunner/scripts/titanic.csv\")\n",
    "\n",
    "# Check for missing values in the 'Age' column\n",
    "age_missing = df['Age'].isna().sum()\n",
    "print(f\"The 'Age' column has {age_missing} missing values.\")\n",
    "\n",
    "print(df.isnull().sum())"
   ]
  },
  {
   "cell_type": "markdown",
   "metadata": {},
   "source": [
    "### NOTE\n",
    "In Pandas, the 'isna()' function is an alias for the 'isnull()' function, and both can be used interchangeably.\n",
    "\n",
    "By identifying missing values, we can decide on a strategy for handling them, such as imputation or removing the rows with missing values. This helps to ensure the quality and reliability of the dataset for analysis.\n",
    "\n",
    "### NOTE\n",
    "Upon identifying missing values in the dataset, it's important to note that we do not cover handling missing values in this module. However, handling the missing values section in the Data Cleaning Using Python module is specifically designed to tackle the issue of missing data using a range of techniques, including deletion and imputation."
   ]
  },
  {
   "cell_type": "markdown",
   "metadata": {},
   "source": [
    "# Outlier Detection\n",
    "## What is outlier detection?\n",
    "Outlier detection is a process of identifying data points that deviate significantly from the majority of the data in a dataset. These points, also known as outliers, can distort the analysis and affect the overall results, and therefore it is essential to detect and handle them appropriately in data wrangling.\n",
    "\n",
    "## Why is it important?\n",
    "Outliers can occur for a variety of reasons, such as measurement errors, data entry errors, or rare events, and can have a significant impact on statistical analysis, machine learning models, and data visualization. Outliers can lead to biased estimates of central tendencies, variance, correlation, and regression coefficients, which can affect the overall quality and reliability of the analysis.\n",
    "\n",
    "Outlier detection in data wrangling involves identifying such points through various statistical and computational methods and then handling them appropriately by either removing them or treating them differently in the analysis. Outlier detection helps to improve the accuracy and validity of the analysis and enables better decision-making based on more reliable insights from the data.\n",
    "\n",
    "Overall, outlier detection is an important step in data wrangling as it helps to ensure that the analysis is based on accurate and meaningful data, free from the distortions caused by outliers.\n"
   ]
  },
  {
   "cell_type": "markdown",
   "metadata": {},
   "source": [
    "## Z-score\n",
    "The z-score method is a statistical technique used for detecting outliers in a dataset. It involves computing the standard score, or z-score, of each data point relative to the mean and standard deviation of the data. A data point with a z-score beyond a certain threshold is considered an outlier.\n",
    "\n",
    "In the context of the Titanic dataset, the z-score method can be used to identify outliers in a column such as age or fare, which may contain extreme values that deviate significantly from the rest of the data.\n",
    "\n",
    "For example, suppose we want to identify outliers in the 'Age' column of the Titanic dataset. We can use the z-score method to calculate the z-score of each data point as follows:"
   ]
  },
  {
   "cell_type": "code",
   "execution_count": 37,
   "metadata": {},
   "outputs": [
    {
     "name": "stdout",
     "output_type": "stream",
     "text": [
      "0     -0.530377\n",
      "1      0.571831\n",
      "2     -0.254825\n",
      "3      0.365167\n",
      "4      0.365167\n",
      "         ...   \n",
      "886   -0.185937\n",
      "887   -0.737041\n",
      "888         NaN\n",
      "889   -0.254825\n",
      "890    0.158503\n",
      "Name: Age, Length: 891, dtype: float64\n"
     ]
    }
   ],
   "source": [
    "import pandas as pd\n",
    "import numpy as np\n",
    "\n",
    "# Load the Titanic dataset\n",
    "df = pd.read_csv(\"https://staticasssets.blob.core.windows.net/open-ai-coderunner/scripts/titanic.csv\")\n",
    "\n",
    "# Calculate z-score of Age column\n",
    "age_zscore = (df['Age'] - np.mean(df['Age'])) / np.std(df['Age'])\n",
    "print(age_zscore)"
   ]
  },
  {
   "cell_type": "markdown",
   "metadata": {},
   "source": [
    "In the code above, we calculate the z-score of the 'Age' column using the NumPy library, which involves subtracting the mean of the 'Age' column from each data point and dividing it by the standard deviation of the 'Age' column.\n",
    "\n",
    "We can then set a threshold for the z-score to identify outliers. For example, suppose we choose a threshold of 3. Any data point with a z-score greater than 3 or less than -3 would be considered an outlier. We can use this threshold to filter out the outliers in the 'Age' column as follows:"
   ]
  },
  {
   "cell_type": "code",
   "execution_count": 38,
   "metadata": {},
   "outputs": [
    {
     "name": "stdout",
     "output_type": "stream",
     "text": [
      "     PassengerId  Survived  Pclass                                  Name  \\\n",
      "630          631         1       1  Barkworth, Mr. Algernon Henry Wilson   \n",
      "851          852         0       3                   Svensson, Mr. Johan   \n",
      "\n",
      "      Sex   Age  SibSp  Parch  Ticket    Fare Cabin Embarked  \n",
      "630  male  80.0      0      0   27042  30.000   A23        S  \n",
      "851  male  74.0      0      0  347060   7.775   NaN        S  \n"
     ]
    }
   ],
   "source": [
    "import pandas as pd\n",
    "import numpy as np\n",
    "\n",
    "# Load the Titanic dataset\n",
    "df = pd.read_csv(\"https://staticasssets.blob.core.windows.net/open-ai-coderunner/scripts/titanic.csv\")\n",
    "\n",
    "# Calculate z-score of Age column\n",
    "age_zscore = (df['Age'] - np.mean(df['Age'])) / np.std(df['Age'])\n",
    "\n",
    "# Filter out outliers in age column\n",
    "age_outliers = df[abs(age_zscore) > 3]\n",
    "print(age_outliers)"
   ]
  },
  {
   "cell_type": "markdown",
   "metadata": {},
   "source": [
    "In the code above, we use the Pandas 'abs()' function to calculate the absolute value of the z-score and then use it to filter out the outliers in the 'Age' column by selecting only the data points with a z-score greater than 3 or less than -3."
   ]
  },
  {
   "cell_type": "markdown",
   "metadata": {},
   "source": [
    "## Interquartile range\n",
    "Interquartile Range (IQR) method is a statistical technique used for detecting outliers in a dataset. It involves computing the difference between the upper and lower quartiles of the data and then using this range to identify outliers that lie beyond a certain threshold.\n",
    "\n",
    "In the context of the Titanic dataset, the IQR method can be used to identify outliers in columns such as 'Age' or 'Fare', which may contain extreme values that deviate significantly from the rest of the data.\n",
    "\n",
    "For example, suppose you want to identify outliers in the 'Fare' column of the Titanic dataset. We can use the IQR method to calculate the IQR of the data and then use this range to identify outliers that lie beyond a certain threshold."
   ]
  },
  {
   "cell_type": "code",
   "execution_count": 39,
   "metadata": {},
   "outputs": [
    {
     "name": "stdout",
     "output_type": "stream",
     "text": [
      "    PassengerId  Survived  Pclass  \\\n",
      "1             2         1       1   \n",
      "27           28         0       1   \n",
      "31           32         1       1   \n",
      "34           35         0       1   \n",
      "52           53         1       1   \n",
      "\n",
      "                                                 Name     Sex   Age  SibSp  \\\n",
      "1   Cumings, Mrs. John Bradley (Florence Briggs Th...  female  38.0      1   \n",
      "27                     Fortune, Mr. Charles Alexander    male  19.0      3   \n",
      "31     Spencer, Mrs. William Augustus (Marie Eugenie)  female   NaN      1   \n",
      "34                            Meyer, Mr. Edgar Joseph    male  28.0      1   \n",
      "52           Harper, Mrs. Henry Sleeper (Myna Haxtun)  female  49.0      1   \n",
      "\n",
      "    Parch    Ticket      Fare        Cabin Embarked  \n",
      "1       0  PC 17599   71.2833          C85        C  \n",
      "27      2     19950  263.0000  C23 C25 C27        S  \n",
      "31      0  PC 17569  146.5208          B78        C  \n",
      "34      0  PC 17604   82.1708          NaN        C  \n",
      "52      0  PC 17572   76.7292          D33        C  \n"
     ]
    }
   ],
   "source": [
    "import pandas as pd\n",
    "import numpy as np\n",
    "\n",
    "# Load the Titanic dataset\n",
    "df = pd.read_csv(\"https://staticasssets.blob.core.windows.net/open-ai-coderunner/scripts/titanic.csv\")\n",
    "\n",
    "# Calculate IQR of Fare column\n",
    "q1 = np.percentile(df['Fare'], 25)\n",
    "q3 = np.percentile(df['Fare'], 75)\n",
    "iqr = q3 - q1\n",
    "\n",
    " # Set threshold for outliers\n",
    "threshold = 1.5 * iqr\n",
    "\n",
    " # Filter out outliers in Fare column\n",
    "fare_outliers = df[(df['Fare'] < q1 - threshold) | (df['Fare'] > q3 + threshold)]\n",
    "print(fare_outliers.head())\n",
    "\n"
   ]
  },
  {
   "cell_type": "markdown",
   "metadata": {},
   "source": [
    "In the code above, we calculate the IQR of the 'Fare' column using the NumPy library, which involves calculating the difference between the upper and lower quartiles of the data. The lower quartile (Q1) is the value below which 25% of the data falls, and the upper quartile (Q3) is the value below which 75% of the data falls.\n",
    "\n",
    "We then set a threshold for the outliers using a multiplier of 1.5 times the IQR. Any data point that lies beyond this threshold is considered an outlier. We can use this threshold to filter out the outliers in the 'Fare' column by selecting only the data points with a fare value less than 'q1 - threshold' or greater than 'q3 + threshold'."
   ]
  },
  {
   "cell_type": "markdown",
   "metadata": {},
   "source": [
    "## Local outlier factor\n",
    "Local Outlier Factor (LOF) is a popular algorithm for detecting outliers in datasets. LOF works by measuring the density of a point relative to its surrounding neighbors. A point with a much lower density than its neighbors is likely to be an outlier.\n",
    "\n",
    "In the context of the Titanic dataset, LOF can be used to identify passengers who have unusual characteristics compared to others. For example, a passenger who paid a much higher fare than other passengers in the same class could be considered an outlier. Similarly, a passenger who was much younger or older than other passengers in the same class could also be considered an outlier.\n",
    "\n",
    "To implement LOF on the Titanic dataset, we can use the scikit-learn library in Python. The following code demonstrates how to use LOF to identify outliers in the Titanic dataset:"
   ]
  },
  {
   "cell_type": "code",
   "execution_count": 40,
   "metadata": {},
   "outputs": [
    {
     "name": "stdout",
     "output_type": "stream",
     "text": [
      "[208, 218, 242, 302, 537, 587]\n"
     ]
    }
   ],
   "source": [
    "from sklearn.neighbors import LocalOutlierFactor\n",
    "import pandas as pd\n",
    "\n",
    "# Load the Titanic dataset\n",
    "df = pd.read_csv(\"https://staticasssets.blob.core.windows.net/open-ai-coderunner/scripts/titanic.csv\")\n",
    "\n",
    "# Select relevant features\n",
    "X = df[['Pclass', 'Age', 'Fare']].dropna()\n",
    "\n",
    "# Fit the LOF model\n",
    "lof = LocalOutlierFactor(n_neighbors=20)\n",
    "lof.fit(X)\n",
    "\n",
    "# Get the outlier scores for each passenger\n",
    "outlier_scores = lof.negative_outlier_factor_\n",
    "\n",
    "# Identify the outliers\n",
    "outlier_threshold = -2.5\n",
    "outliers = [i for i, score in enumerate(outlier_scores) if score < outlier_threshold]\n",
    "\n",
    "# Print the outliers\n",
    "print(outliers)\n",
    "\n"
   ]
  },
  {
   "cell_type": "markdown",
   "metadata": {},
   "source": [
    "In this code, we select the relevant features ('Pclass', 'Age', and 'Fare'). By using the 'dropna()' method to remove rows with missing values in the 'Pclass', 'Age', and 'Fare' columns, the input data for the 'LocalOutlierFactor()' method does not contain any NaN or infinite values. We then fit the LOF model with a specified number of neighbors (n_neighbors=20). The specific value of 20 is chosen based on trial and error and can be adjusted as needed. A higher number of neighbors will result in a smoother estimate of local density but may also include more outliers.\n",
    "\n",
    "The LOF model assigns a negative outlier factor to each point, with lower scores indicating greater deviation from the local density. We use a threshold of -2.5 to identify outliers and print the indices of the identified outliers. The specific value of -2.5 is chosen based on trial and error and can be adjusted as needed.\n",
    "\n",
    "### NOTE\n",
    "This is just one example of how LOF can be used in outlier detection on the Titanic dataset. Depending on the specific problem, different features and thresholds may be used to identify outliers."
   ]
  },
  {
   "cell_type": "markdown",
   "metadata": {},
   "source": [
    "## Median absolute deviation\n",
    "MAD (Median Absolute Deviation) is a robust method for identifying outliers in a dataset. Unlike other methods that rely on the mean and standard deviation, MAD is based on the median and the absolute deviation from the median. An advantage of MAD is that it is less sensitive to extreme values in the dataset. This results in a more accurate identification of outliers, as the mean and standard deviation are less likely to be skewed.\n",
    "\n",
    "In the context of the Titanic dataset, MAD can be used to identify passengers who have unusual characteristics compared to others. For example, a passenger who paid a much higher fare than other passengers in the same class could be considered an outlier. Similarly, a passenger who was much younger or older than other passengers in the same class could also be considered an outlier.\n",
    "\n",
    "To implement MAD on the Titanic dataset, we can use the NumPy library in Python. The following code demonstrates how to use MAD to identify outliers in the Titanic dataset:"
   ]
  },
  {
   "cell_type": "code",
   "execution_count": 41,
   "metadata": {},
   "outputs": [
    {
     "name": "stdout",
     "output_type": "stream",
     "text": [
      "[  1   3   5  10  23  25  26  27  33  38  40  40  44  46  47  54  55  57\n",
      "  59  63  67  71  73  74  75  79  85  91  93  95  98 109 111 122 123 125\n",
      " 135 136 140 156 156 172 175 180 185 187 197 200 203 207 208 211 216 216\n",
      " 217 221 221 225 234 235 240 241 243 243 244 246 247 248 255 256 261 262\n",
      " 265 267 269 270 274 286 293 293 294 295 298 301 304 307 308 309 312 315\n",
      " 331 347 348 351 351 357 364 366 373 374 383 385 386 387 388 393 393 395\n",
      " 396 401 402 405 408 414 416 426 427 428 432 433 437 441 443 451 452 457\n",
      " 460 463 465 465 468 473 480 481 484 490 494 495 496 498 507 509 510 512\n",
      " 517 520 520 521 526 530 531 536 537 538 540 541 542 546 547 550 553 555\n",
      " 563 564 565 569 576 581 587 588 589 592 592 595 601 602 606 609 611 616\n",
      " 620 622 629 639 640 646 656 662 662 664 667 669 679 684 693 696 703 703]\n"
     ]
    }
   ],
   "source": [
    "import numpy as np\n",
    "import pandas as pd\n",
    "\n",
    "# Load the Titanic dataset\n",
    "df = pd.read_csv(\"https://staticasssets.blob.core.windows.net/open-ai-coderunner/scripts/titanic.csv\")\n",
    "\n",
    "# Select relevant features\n",
    "X = df[['Pclass', 'Age', 'Fare']].dropna()\n",
    "\n",
    "# Calculate the median and median absolute deviation for each feature\n",
    "med = np.median(X, axis=0)\n",
    "mad = np.median(np.abs(X - med), axis=0)\n",
    "\n",
    "# Calculate the z-score for each point\n",
    "z_score = np.abs((X - med) / mad)\n",
    "\n",
    "# Identify the outliers\n",
    "outlier_threshold = 3\n",
    "outliers = np.where(z_score > outlier_threshold)[0]\n",
    "\n",
    "# Print the outliers\n",
    "print(outliers)\n",
    "\n"
   ]
  },
  {
   "cell_type": "markdown",
   "metadata": {},
   "source": [
    "In this code, we select the relevant features ('Pclass', 'Age', and 'Fare') and drop the missing values rows. We then calculate the median and median absolute deviation (MAD) for each feature.\n",
    "\n",
    "We use the MAD to calculate the z-score for each point, which is a measure of how many median absolute deviations away from the median each point is. We use a threshold of 3 to identify outliers and print the indices of the identified outliers. The choice of 3 as the threshold is somewhat arbitrary, but it is often used because it corresponds to a probability of approximately 0.003, or 0.3%. This means that if the data is normally distributed, we would expect to see only about 0.3% of the data fall outside of the range of +/- 3 standard deviations.\n",
    "\n",
    "Increasing the outlier threshold in the z-score method would reduce the number of data points classified as outliers. However, this could lead to the loss of important information or patterns in the data, especially if there are extreme values that are still informative for the analysis. Therefore, it's essential to choose a threshold that suits the dataset and analysis goals and consider the data's distribution and variability when identifying outliers.\n",
    "\n",
    "### INFO\n",
    "It is worth mentioning that the choice of features used to identify outliers can depend on the specific problem and dataset at hand. Other combinations of features may be more appropriate in different scenarios."
   ]
  },
  {
   "cell_type": "markdown",
   "metadata": {},
   "source": [
    "## Box plot\n",
    "Box plots are a graphical method of outlier detection that can be used to visualize the distribution of a dataset and identify potential outliers. In a box plot, the median, upper and lower quartiles, and extreme values are represented using a box and whisker plot.\n",
    "\n",
    "In the context of the Titanic dataset, box plots can be used to identify potential outliers in columns such as 'Age' or 'Fare' by plotting the distribution of the data and visually inspecting for values that lie outside of the expected range.\n",
    "\n",
    "For example, suppose we want to create a box plot of the 'Fare' column in the Titanic dataset to identify potential outliers. We can use the following code:"
   ]
  },
  {
   "cell_type": "code",
   "execution_count": 42,
   "metadata": {},
   "outputs": [
    {
     "data": {
      "image/png": "[encoded data removed]",
      "text/plain": [
       "<Figure size 640x480 with 1 Axes>"
      ]
     },
     "metadata": {},
     "output_type": "display_data"
    }
   ],
   "source": [
    "import seaborn as sns\n",
    "import pandas as pd\n",
    "import matplotlib.pyplot as plt\n",
    "\n",
    "# Load the Titanic dataset\n",
    "df = pd.read_csv(\"https://staticasssets.blob.core.windows.net/open-ai-coderunner/scripts/titanic.csv\")\n",
    "\n",
    "# Create box plot of Fare column\n",
    "sns.boxplot(x=df['Fare'])\n",
    "\n",
    "# Display the plot\n",
    "plt.show()"
   ]
  },
  {
   "cell_type": "markdown",
   "metadata": {},
   "source": [
    "In the code above, we create a box plot of the 'Fare' column using the Seaborn library, which creates a box plot of the distribution of the data.\n",
    "\n",
    "The box plot shows the median (the horizontal line inside the box), the upper and lower quartiles (the top and bottom edges of the box), and any extreme values (represented by the whiskers extending from the top and bottom edges of the box). Points that lie outside of the whiskers are considered potential outliers."
   ]
  },
  {
   "cell_type": "markdown",
   "metadata": {},
   "source": [
    "# Checking Data Accuracy\n",
    "## What is checking data accuracy?\n",
    "Checking data accuracy is the process of verifying the correctness and consistency of data within a dataset. It is an essential component of data validation and quality control, as it helps to ensure that the data is reliable and can be used for analysis or decision-making purposes. Checking data accuracy involves examining the data for errors, inconsistencies, and discrepancies, and correcting or removing them where necessary.\n",
    "\n",
    "## Why is it important?\n",
    "It is important in data validation and quality control because inaccurate or inconsistent data can lead to incorrect conclusions and decisions. For example, if a dataset contains errors or inconsistencies, it may lead to inaccurate predictions or analysis results. By performing data accuracy checks, you can ensure that data is reliable, consistent, and accurate, which can improve decision-making, reduce errors and costs, and enhance overall operational efficiency.\n",
    "\n"
   ]
  },
  {
   "cell_type": "markdown",
   "metadata": {},
   "source": [
    "## Data range validation\n",
    "Data range validation is a process of verifying whether the values in a dataset fall within an expected range or not. This is an important aspect of checking data accuracy as it helps ensure that the data is within acceptable limits and that there are no outliers or data entry errors.\n",
    "\n",
    "For example, in the Titanic dataset, we may want to check whether the age values fall within a reasonable range, such as between 0 and 100 years. We can also check if the fare values are within a realistic range, such as between 0 and 1000 dollars.\n",
    "\n",
    "Here is an example code that checks the age, sex, and cabin values in the Titanic dataset:"
   ]
  },
  {
   "cell_type": "code",
   "execution_count": 43,
   "metadata": {},
   "outputs": [
    {
     "name": "stdout",
     "output_type": "stream",
     "text": [
      "No invalid values are found in the 'Sex' column.\n",
      "Invalid age values: 177\n",
      "Invalid cabin values: 695\n"
     ]
    }
   ],
   "source": [
    "import pandas as pd\n",
    "\n",
    "# Load the Titanic dataset\n",
    "df = pd.read_csv(\"https://staticasssets.blob.core.windows.net/open-ai-coderunner/scripts/titanic.csv\")\n",
    "\n",
    "# Define data ranges\n",
    "age_range = (0, 100)\n",
    "sex_values = ['male', 'female']\n",
    "cabin_format = r'[A-Z]\\d+'\n",
    "\n",
    "# Check for invalid data\n",
    "invalid_age = (~df['Age'].between(*age_range)).sum()\n",
    "invalid_sex = (~df['Sex'].isin(sex_values)).sum()\n",
    "invalid_cabin = (~df['Cabin'].str.match(cabin_format, na=False)).sum()\n",
    "\n",
    "# Print results\n",
    "if invalid_sex == 0:\n",
    "    print(\"No invalid values are found in the 'Sex' column.\")\n",
    "else:\n",
    "    print(f\"Invalid sex values: {invalid_sex}\")\n",
    "print(f\"Invalid age values: {invalid_age}\")\n",
    "print(f\"Invalid cabin values: {invalid_cabin}\")\n"
   ]
  },
  {
   "cell_type": "markdown",
   "metadata": {},
   "source": [
    "The code above checks for invalid data in three columns of the Titanic dataset. For the 'Age' column, it checks if each value falls within the acceptable range using the 'between()' method. The 'isin()' method is used for the 'Sex' column to check if each value is one of the acceptable values. For the 'Cabin' column, it checks if each value matches the expected format using the 'str.match()' method. In each case, the '~' operator is used to invert the resulting boolean Series to identify the invalid values, and the 'sum()' method is used to count the number of invalid values.\n",
    "\n",
    "The result shows that there are invalid values in the 'Age' and 'Cabin' columns of the Titanic dataset, with 177 invalid age values and 695 invalid cabin values. These invalid values can be due to errors in data entry and can affect the accuracy and reliability of the analysis. To handle these invalid values, data cleaning techniques such as imputation, removal, or correction may be employed, and data validation rules can be implemented to prevent similar invalid values from being entered in the future."
   ]
  },
  {
   "cell_type": "markdown",
   "metadata": {},
   "source": [
    "## Data format validation\n",
    "Data format validation is a type of data accuracy check that ensures that the data is in the expected format and structure. It helps to identify errors or inconsistencies that may exist in the data due to data entry errors or data manipulation issues.\n",
    "\n",
    "For example, in the Titanic dataset, the 'Name' column may contain errors or inconsistencies, such as misspellings, missing titles or suffixes, or incorrect formatting. Data format validation can help to identify and correct these issues to ensure that the data is accurate and consistent.\n",
    "\n",
    "Here's an example code snippet in Python that implements data format validation on the 'Name' column of the Titanic dataset using regular expressions:"
   ]
  },
  {
   "cell_type": "code",
   "execution_count": 44,
   "metadata": {},
   "outputs": [
    {
     "name": "stdout",
     "output_type": "stream",
     "text": [
      "The following name values are not in the expected format:\n",
      " 18     Vander Planke, Mrs. Julius (Emelia Maria Vande...\n",
      "28                         O'Dwyer, Miss. Ellen \"Nellie\"\n",
      "38                    Vander Planke, Miss. Augusta Maria\n",
      "39                           Nicola-Yarred, Miss. Jamila\n",
      "47                             O'Driscoll, Miss. Bridget\n",
      "49         Arnold-Franchi, Mrs. Josef (Josefine Franchi)\n",
      "125                         Nicola-Yarred, Master. Elias\n",
      "153                      van Billiard, Mr. Austin Blyler\n",
      "170                            Van der hoef, Mr. Wyckoff\n",
      "184                  Kink-Heilmann, Miss. Luise Gretchen\n",
      "186      O'Brien, Mrs. Thomas (Johanna \"Hannah\" Godfrey)\n",
      "192      Andersen-Jensen, Miss. Carla Christine Nielsine\n",
      "200                       Vande Walle, Mr. Nestor Cyriel\n",
      "282                            de Pelsmaeker, Mr. Alfons\n",
      "286                              de Mulder, Mr. Theodore\n",
      "307    Penasco y Castellana, Mrs. Victor de Satode (M...\n",
      "333                      Vander Planke, Mr. Leo Edmondus\n",
      "351               Williams-Lambert, Mr. Fletcher Fellows\n",
      "353                            Arnold-Franchi, Mr. Josef\n",
      "355                          Vanden Steen, Mr. Leo Peter\n",
      "361                            del Carlo, Mr. Sebastiano\n",
      "364                                  O'Brien, Mr. Thomas\n",
      "419                            Van Impe, Miss. Catharina\n",
      "430            Bjornstrom-Steffansson, Mr. Mauritz Hakan\n",
      "444                    Johannesen-Bratthammer, Mr. Bernt\n",
      "459                                O'Connor, Mr. Maurice\n",
      "502                       O'Sullivan, Miss. Bridget Mary\n",
      "505           Penasco y Castellana, Mr. Victor de Satode\n",
      "547                           Padro y Manent, Mr. Julian\n",
      "552                                 O'Brien, Mr. Timothy\n",
      "556    Duff Gordon, Lady. (Lucille Christiana Sutherl...\n",
      "559         de Messemaeker, Mrs. Guillaume Joseph (Emma)\n",
      "587                     Frolicher-Stehli, Mr. Maxmillian\n",
      "595                          Van Impe, Mr. Jean Baptiste\n",
      "599         Duff Gordon, Sir. Cosmo Edmund (\"Mr Morgan\")\n",
      "629                             O'Connell, Mr. Patrick D\n",
      "632                            Stahelin-Maeglin, Dr. Max\n",
      "647                  Simonius-Blumer, Col. Oberst Alfons\n",
      "653                        O'Leary, Miss. Hanora \"Norah\"\n",
      "752                     Vande Velde, Mr. Johannes Joseph\n",
      "798                         Ibrahim Shawah, Mr. Yousseff\n",
      "799    Van Impe, Mrs. Jean Baptiste (Rosalie Paula Go...\n",
      "866                         Duran y More, Miss. Asuncion\n",
      "868                          van Melkebeke, Mr. Philemon\n",
      "873                          Vander Cruyssen, Mr. Victor\n",
      "Name: Name, dtype: object\n"
     ]
    }
   ],
   "source": [
    "import pandas as pd\n",
    "\n",
    "# Load the Titanic dataset\n",
    "df = pd.read_csv(\"https://staticasssets.blob.core.windows.net/open-ai-coderunner/scripts/titanic.csv\")\n",
    "\n",
    "# The name_pattern matches strings that start with one or more alphabetical characters, \n",
    "# followed by a comma and a space, and then followed by one or more alphabetical \n",
    "# characters, and an optional period in the end. The optional period in the end allows \n",
    "# for cases where the first name includes a middle initial followed by a period.\n",
    "name_pattern = r'^[A-Za-z]+\\, [A-Za-z]+\\.?'\n",
    "\n",
    "\n",
    "# Validate the name field\n",
    "name_errors = df[~df['Name'].str.match(name_pattern)]['Name']\n",
    "\n",
    "if not name_errors.empty:\n",
    "    print(f\"The following name values are not in the expected format:\\n {name_errors}\")\n"
   ]
  },
  {
   "cell_type": "markdown",
   "metadata": {},
   "source": [
    "To validate the 'Name' field, we use a regular expression pattern to check whether the 'Name' field is in the expected format (i.e., last name followed by a comma, followed by a space, followed by the first name, and possibly a middle initial). We use the 'str.match()' function to match the name field against the pattern and use the '~' operator to obtain the non-matching values. If any non-matching values are found, we print a message indicating the errors.\n",
    "\n",
    "This example illustrates how data format validation can be used in data accuracy checks to ensure that the data is in the expected format and to identify any errors or inconsistencies that require attention."
   ]
  },
  {
   "cell_type": "markdown",
   "metadata": {},
   "source": []
  }
 ],
 "metadata": {
  "kernelspec": {
   "display_name": "Python 3",
   "language": "python",
   "name": "python3"
  },
  "language_info": {
   "codemirror_mode": {
    "name": "ipython",
    "version": 3
   },
   "file_extension": ".py",
   "mimetype": "text/x-python",
   "name": "python",
   "nbconvert_exporter": "python",
   "pygments_lexer": "ipython3",
   "version": "3.11.9"
  }
 },
 "nbformat": 4,
 "nbformat_minor": 2
}
