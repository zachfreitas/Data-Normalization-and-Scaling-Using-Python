{
 "cells": [
  {
   "cell_type": "markdown",
   "metadata": {},
   "source": [
    "# Overview\n",
    "Data manipulation refers to the process of transforming raw data into a format that is more suitable for analysis and modeling. The goal of data manipulation is to clean, organize, and transform data into a usable form that can be easily consumed and analyzed. It involves a range of techniques and methods used to preprocess and organize data, making it easier to work with and analyze. This section will provide an overview of the key techniques involved in data manipulation, including indexing, slicing, filtering, and sorting.\n",
    "\n",
    "It is an important part of any data analysis or data science project due to several reasons:\n",
    "\n",
    "Data preparation: Raw data is often in a format that is not suitable for analysis and modeling. Data manipulation helps to clean, organize, and transform the data into a usable form.\n",
    "Data quality: Data manipulation helps to enhance the quality of the data by dealing with inconsistent or incorrect data, and transforming data into a format that is compatible with analysis tools.\n",
    "Efficient analysis: By transforming data into a usable form, data manipulation makes it easier to perform efficient and accurate data analysis, which is crucial for making informed decisions.\n",
    "By the end of this course, you will have a clear understanding of the purpose and importance of data manipulation, and how these techniques are used to transform raw data into actionable insights.\n",
    "\n",
    "In this module, we will cover the following topics:\n",
    "\n",
    "I. Indexing: Selecting specific elements or rows from a dataset.\n",
    "II. Slicing: Selecting a range of rows or columns from a dataset.\n",
    "III. Filtering: Selecting specific rows from a dataset based on certain conditions.\n",
    "IV. Sorting: Arranging the data in a specific order, either ascending or descending.\n",
    "\n",
    "## Learning Objectives\n",
    "In this module, the learners will:\n",
    "\n",
    "* Understand how to locate and extract specific data from a DataFrame.\n",
    "* Analyze the process of filtering a DataFrame based on conditions.\n",
    "* Apply the methods of sorting data in a DataFrame.\n",
    "* Understand how to manipulate and analyze data in a DataFrame.\n",
    "Let's get started!\n",
    "\n",
    "## Dataset\n",
    "Titanic dataset: This is a well-known and widely used dataset in the field of data analysis and machine learning. This dataset contains information about the passengers on the Titanic ship, including their demographic information, ticket information, and survival status. In this exercise, we're using the Titanic dataset to demonstrate indexing, slicing, filtering, and sorting of data through Pandas functions.\n",
    "\n",
    "Here's a description of the columns in the dataset:\n",
    "\n",
    "* PassengerId: This column is a unique identifier assigned to each passenger.\n",
    "* Age: This column specifies the age of the passenger.\n",
    "* Name: This column specifies the name of the passenger.\n",
    "* Sex: This column specifies the gender of the passenger (Male or Female).\n",
    "* Survived: This column specifies whether the passenger survived the Titanic disaster or not. The values in this column can either be 0 (did not survive) or 1 (survived).\n",
    "* Pclass (Passenger Class): This column specifies the class of the passenger (1st, 2nd, or 3rd class).\n",
    "* SibSp (Siblings/Spouses Aboard): This column specifies the number of siblings or spouses the passenger was traveling with.\n",
    "* Parch (Parents/Children Aboard): This column specifies the number of parents or children the passenger was traveling with.\n",
    "* Ticket: This column specifies the ticket number assigned to the passenger.\n",
    "* Fare: This column specifies the fare paid by the passenger for their ticket.\n",
    "* Cabin: This column specifies the cabin number assigned to the passenger.\n",
    "* Embarked: This column specifies the port where the passenger boarded the Titanic (C = Cherbourg, Q = Queenstown, or S = Southampton)."
   ]
  },
  {
   "cell_type": "markdown",
   "metadata": {},
   "source": [
    "# Indexing\n",
    "## What is indexing?\n",
    "Indexing in data manipulation refers to the process of selecting a specific subset of data in a DataFrame or Series. It is a fundamental aspect of data analysis and manipulation, as it allows you to extract only the relevant information from a large dataset, and perform operations on that subset of data.\n",
    "\n",
    "## Why is it important?\n",
    "Indexing is important because it enables us to extract meaningful insights from large datasets efficiently. With indexing, we can focus on a specific subset of data that is relevant to our analysis, which can save time and computing resources. Indexing also allows us to filter out irrelevant data and clean our data before analysis.\n",
    "\n",
    "Suppose you work for a healthcare organization that collects large amounts of patient data daily, including information on medical history, treatments, lab results, and more. As a data analyst, your task is to extract insights from this data to help the organization improve patient outcomes and operational efficiency.\n",
    "\n",
    "To do this, you need to be able to select and analyze specific subsets of data that are relevant to the analysis, such as patients with a specific medical condition or lab results for a particular test. Without indexing, it would be difficult and time-consuming to extract the relevant data needed for analysis. Thus, indexing enables analysts to quickly and efficiently select data based on specific criteria, making it easier to draw meaningful insights and make data-driven decisions."
   ]
  },
  {
   "cell_type": "markdown",
   "metadata": {},
   "source": [
    "## Indexing based on columns\n",
    "Column indexing allows us to select one or more columns from a DataFrame by specifying the column labels. It can be done using bracket notation with a single-column label or a list of column labels. The resulting object is a Pandas Series or DataFrame, depending on the number of columns selected.\n",
    "\n",
    "For example, we can select the 'Age' column from the Titanic DataFrame using the bracket notation with a single label:"
   ]
  },
  {
   "cell_type": "code",
   "execution_count": 16,
   "metadata": {},
   "outputs": [
    {
     "name": "stdout",
     "output_type": "stream",
     "text": [
      "0      22.0\n",
      "1      38.0\n",
      "2      26.0\n",
      "3      35.0\n",
      "4      35.0\n",
      "       ... \n",
      "886    27.0\n",
      "887    19.0\n",
      "888     NaN\n",
      "889    26.0\n",
      "890    32.0\n",
      "Name: Age, Length: 891, dtype: float64\n"
     ]
    }
   ],
   "source": [
    "import pandas as pd\n",
    "\n",
    "# read in the Titanic dataset\n",
    "df = pd.read_csv('https://staticasssets.blob.core.windows.net/open-ai-coderunner/scripts/titanic.csv')\n",
    "\n",
    "# select a single column using bracket notation\n",
    "single_column = df['Age']\n",
    "print(single_column)"
   ]
  },
  {
   "cell_type": "markdown",
   "metadata": {},
   "source": [
    "In this example, we use the column label 'Age' to select the 'Age' column of the DataFrame. The resulting 'single_column' is a Pandas Series because only one column was selected."
   ]
  },
  {
   "cell_type": "markdown",
   "metadata": {},
   "source": [
    "## Indexing by labels\n",
    "Label-based indexing is a method of selecting data from a Pandas DataFrame based on labels, rather than numeric indices. This can be useful when you want to select data based on specific row and column labels, rather than numeric positions. Indexing by labels can be performed using the '.loc[ ]' accessor in Pandas.\n",
    "\n",
    "For example, suppose you are working with the Titanic dataset, which contains information about the passengers who were onboard the Titanic when it sank. You might want to select a single element from the dataset using its row and column labels."
   ]
  },
  {
   "cell_type": "code",
   "execution_count": 17,
   "metadata": {},
   "outputs": [
    {
     "name": "stdout",
     "output_type": "stream",
     "text": [
      "Cumings, Mrs. John Bradley (Florence Briggs Thayer)\n"
     ]
    }
   ],
   "source": [
    "# Import pandas library and read Titanic dataset\n",
    "import pandas as pd\n",
    "df = pd.read_csv('https://staticasssets.blob.core.windows.net/open-ai-coderunner/scripts/titanic.csv') \n",
    "\n",
    "# Access the 'Name' of the passenger with 'PassengerId' 1\n",
    "element_df_label = df.loc[1, 'Name']\n",
    "print(element_df_label)"
   ]
  },
  {
   "cell_type": "markdown",
   "metadata": {},
   "source": [
    "In this example, we use the '.loc[ ]' accessor to select a single element from the DataFrame. The '.loc[ ]' accessor takes two arguments: the first argument specifies the row label to select (in this case, row label 1), and the second argument specifies the column label to select (in this case, the 'Name' column)."
   ]
  },
  {
   "cell_type": "markdown",
   "metadata": {},
   "source": [
    "## Indexing by position\n",
    "In position-based indexing, we use integer-based locations to select data. In the context of the Titanic dataset, an example of position-based indexing can be seen in selecting the first row of the DataFrame using the '.iloc[ ]' accessor and specifying the row index as 0. This can be done using the following code:"
   ]
  },
  {
   "cell_type": "code",
   "execution_count": 18,
   "metadata": {},
   "outputs": [
    {
     "name": "stdout",
     "output_type": "stream",
     "text": [
      "PassengerId                          1\n",
      "Survived                             0\n",
      "Pclass                               3\n",
      "Name           Braund, Mr. Owen Harris\n",
      "Sex                               male\n",
      "Age                               22.0\n",
      "SibSp                                1\n",
      "Parch                                0\n",
      "Ticket                       A/5 21171\n",
      "Fare                              7.25\n",
      "Cabin                              NaN\n",
      "Embarked                             S\n",
      "Name: 0, dtype: object\n"
     ]
    }
   ],
   "source": [
    "# Import pandas library and read Titanic dataset\n",
    "import pandas as pd\n",
    "df = pd.read_csv('https://staticasssets.blob.core.windows.net/open-ai-coderunner/scripts/titanic.csv')\n",
    "\n",
    "# Select the first row of the DataFrame\n",
    "first_row = df.iloc[0]\n",
    "print(first_row)"
   ]
  },
  {
   "cell_type": "markdown",
   "metadata": {},
   "source": [
    "In this code, the '.iloc[ ]' accessor takes a single argument, which specifies the integer position of the row to select. In this case, we pass the value 0 as the argument to select the first row of the DataFrame. We then assign the resulting row to a new variable 'first_row'.\n",
    "\n",
    "### NOTE\n",
    "Loc and iloc are two functions in Pandas that are used to slice a data set in a Pandas DataFrame. The function . loc is typically used for label indexing and can access multiple columns, while . iloc is used for integer indexing"
   ]
  },
  {
   "cell_type": "markdown",
   "metadata": {},
   "source": [
    "## Indexing by values\n",
    "Value-based indexing refers to selecting a single value from a Pandas DataFrame using its row and column labels or positions. It is done using the '.at' and '.iat' accessors.\n",
    "\n",
    "In the Titanic dataset, if we want to extract the age of the passenger in row 4, we can use value-based indexing with the '.at' accessor. Alternatively, we can use the '.iat' accessor to get the same value using row and column positions instead of labels. Here's an example:"
   ]
  },
  {
   "cell_type": "code",
   "execution_count": 19,
   "metadata": {},
   "outputs": [
    {
     "name": "stdout",
     "output_type": "stream",
     "text": [
      "35.0\n",
      "35.0\n"
     ]
    }
   ],
   "source": [
    "# Import pandas library and read Titanic dataset\n",
    "import pandas as pd\n",
    "df = pd.read_csv('https://staticasssets.blob.core.windows.net/open-ai-coderunner/scripts/titanic.csv')\n",
    "\n",
    "# select a single value from the DataFrame using .at and .iat\n",
    "value_with_at = df.at[4, 'Age']\n",
    "print(value_with_at)\n",
    "value_with_iat = df.iat[4, 5]\n",
    "print(value_with_iat)"
   ]
  },
  {
   "cell_type": "markdown",
   "metadata": {},
   "source": [
    "In this example, we use the '.at' accessor to select a single value from the 'Age' column and alternatively, the '.iat' accessor to select a single value from the 5th row and 6th column.\n",
    "\n",
    "### NOTE\n",
    "Both '.at' and '.iat' are methods for retrieving a single value from a Pandas DataFrame. While '.iat' is generally faster than '.at' due to its use of integer-based indexing, it does not perform any label validation, which means that retrieving the wrong value is possible if the integer indices are not correctly aligned with the DataFrame. In other words, it is important to use '.at' and '.iat' appropriately based on the type of index being used and to ensure proper alignment between the index and the data being accessed."
   ]
  },
  {
   "cell_type": "markdown",
   "metadata": {},
   "source": [
    "# Slicing\n",
    "## What is slicing?\n",
    "Slicing in data manipulation refers to the process of selecting a specific range of data in a DataFrame or Series. Similar to indexing, slicing is an important tool for extracting meaningful insights from large datasets. With slicing, we can focus on a specific range of data that is relevant to our analysis, allowing us to save time and computing resources.\n",
    "\n",
    "## Why is it important?\n",
    "Suppose you are working with a large dataset containing information on customer transactions, including purchase dates, items purchased, and prices. You want to analyze the sales data for a specific time period, such as the previous month, to identify trends and patterns. Slicing allows you to extract a subset of the data that falls within the desired time frame, allowing you to focus your analysis on the relevant information.\n",
    "\n",
    "Without slicing, you would need to manually search through the entire dataset to find the relevant transactions, which would be time-consuming and prone to errors. By using slicing, you can quickly and efficiently extract the relevant data and perform analysis on it."
   ]
  },
  {
   "cell_type": "markdown",
   "metadata": {},
   "source": [
    "## Slicing based on columns\n",
    "Column slicing is the process of selecting a specific subset of columns from a DataFrame. It allows us to work with a smaller set of data that is relevant to our analysis."
   ]
  },
  {
   "cell_type": "code",
   "execution_count": 20,
   "metadata": {},
   "outputs": [
    {
     "name": "stdout",
     "output_type": "stream",
     "text": [
      "                                                Name   Age\n",
      "0                            Braund, Mr. Owen Harris  22.0\n",
      "1  Cumings, Mrs. John Bradley (Florence Briggs Th...  38.0\n",
      "2                             Heikkinen, Miss. Laina  26.0\n",
      "3       Futrelle, Mrs. Jacques Heath (Lily May Peel)  35.0\n",
      "4                           Allen, Mr. William Henry  35.0\n"
     ]
    }
   ],
   "source": [
    "# Import pandas library and read Titanic dataset\n",
    "import pandas as pd\n",
    "df = pd.read_csv('https://staticasssets.blob.core.windows.net/open-ai-coderunner/scripts/titanic.csv')\n",
    "\n",
    "# Selecting multiple columns by specifying column labels\n",
    "column_sliced = df[['Name', 'Age']]\n",
    "print(column_sliced.head())"
   ]
  },
  {
   "cell_type": "markdown",
   "metadata": {},
   "source": [
    "This code will return the 'Name' and 'Age' columns of the DataFrame. The result will be a new DataFrame that contains only the specified columns.\n",
    "\n",
    "### CAVEAT\n",
    "It's important to note that there is a difference between column indexing and column slicing in Pandas. When using the indexing operator '[ ]', passing a single column label will result in column indexing and return a Pandas series, whereas passing a list of column labels will result in column slicing and return a Pandas dataframe."
   ]
  },
  {
   "cell_type": "markdown",
   "metadata": {},
   "source": [
    "## Slicing by labels\n",
    "Label-based slicing is a way to select a continuous subset of data in a DataFrame based on the index labels. Here's an example:"
   ]
  },
  {
   "cell_type": "code",
   "execution_count": 21,
   "metadata": {},
   "outputs": [
    {
     "name": "stdout",
     "output_type": "stream",
     "text": [
      "                                                Name   Age\n",
      "0                            Braund, Mr. Owen Harris  22.0\n",
      "1  Cumings, Mrs. John Bradley (Florence Briggs Th...  38.0\n",
      "2                             Heikkinen, Miss. Laina  26.0\n",
      "3       Futrelle, Mrs. Jacques Heath (Lily May Peel)  35.0\n",
      "4                           Allen, Mr. William Henry  35.0\n"
     ]
    }
   ],
   "source": [
    "# Import pandas library and read Titanic dataset\n",
    "import pandas as pd\n",
    "df = pd.read_csv('https://staticasssets.blob.core.windows.net/open-ai-coderunner/scripts/titanic.csv')\n",
    "\n",
    "# select a subset of the data using .loc\n",
    "subset_df_label = df.loc[0:4, ['Name', 'Age']]\n",
    "print(subset_df_label)"
   ]
  },
  {
   "cell_type": "markdown",
   "metadata": {},
   "source": [
    "In this example, we use the '.loc[ ]' accessor to select the first 5 rows of the 'Name' and 'Age' columns. \n",
    "\n",
    "The following code selects all the rows in the DataFrame except the first 5 rows and all the columns except the 'Name' and 'Age' columns:"
   ]
  },
  {
   "cell_type": "code",
   "execution_count": 22,
   "metadata": {},
   "outputs": [
    {
     "name": "stdout",
     "output_type": "stream",
     "text": [
      "   PassengerId  Survived  Pclass     Sex  SibSp  Parch  Ticket     Fare Cabin  \\\n",
      "5            6         0       3    male      0      0  330877   8.4583   NaN   \n",
      "6            7         0       1    male      0      0   17463  51.8625   E46   \n",
      "7            8         0       3    male      3      1  349909  21.0750   NaN   \n",
      "8            9         1       3  female      0      2  347742  11.1333   NaN   \n",
      "9           10         1       2  female      1      0  237736  30.0708   NaN   \n",
      "\n",
      "  Embarked  \n",
      "5        Q  \n",
      "6        S  \n",
      "7        S  \n",
      "8        S  \n",
      "9        C  \n"
     ]
    }
   ],
   "source": [
    "# Import pandas library and read Titanic dataset\n",
    "import pandas as pd\n",
    "df = pd.read_csv('https://staticasssets.blob.core.windows.net/open-ai-coderunner/scripts/titanic.csv')\n",
    "\n",
    "# Select rows with index values 0 to 4\n",
    "subset_df_label = df.loc[5:, [col for col in df.columns if col not in ['Name', 'Age']]]\n",
    "\n",
    "# Display the selected rows\n",
    "print(subset_df_label.head())"
   ]
  },
  {
   "cell_type": "markdown",
   "metadata": {},
   "source": [
    "In the above code, the '.loc[ ]' property is used to access all the rows with index labels greater than 5, while the second argument is a list comprehension that selects all the columns that are not 'Name' and 'Age'.\n",
    "\n",
    "WARNING\n",
    "\n",
    "Please be aware that when using label-based indexing and slicing, there is a key difference to consider. Label-based indexing retrieves a single element or a set of elements based on the label index, while label-based slicing extracts a range of elements based on the label index."
   ]
  },
  {
   "cell_type": "markdown",
   "metadata": {},
   "source": [
    "## Slicing by position\n",
    "Position-based slicing allows us to select rows and columns from a DataFrame based on their position. This means that we are selecting data based on the row and column numbers, rather than their labels. The first argument passed to the '.iloc[ ]' accessor is the row index and the second argument is the column index. We can specify a single row or column by passing a single integer, or multiple rows and columns by passing a list of integers."
   ]
  },
  {
   "cell_type": "code",
   "execution_count": 23,
   "metadata": {},
   "outputs": [
    {
     "name": "stdout",
     "output_type": "stream",
     "text": [
      "                                                Name   Age\n",
      "0                            Braund, Mr. Owen Harris  22.0\n",
      "1  Cumings, Mrs. John Bradley (Florence Briggs Th...  38.0\n",
      "2                             Heikkinen, Miss. Laina  26.0\n",
      "3       Futrelle, Mrs. Jacques Heath (Lily May Peel)  35.0\n",
      "4                           Allen, Mr. William Henry  35.0\n"
     ]
    }
   ],
   "source": [
    "# Import pandas library and read Titanic dataset\n",
    "import pandas as pd\n",
    "df = pd.read_csv('https://staticasssets.blob.core.windows.net/open-ai-coderunner/scripts/titanic.csv')\n",
    "\n",
    "# select a subset of the data using .iloc\n",
    "subset_df_position = df.iloc[0:5, [3, 5]]\n",
    "print(subset_df_position)"
   ]
  },
  {
   "cell_type": "markdown",
   "metadata": {},
   "source": [
    "In this example, we use the '.iloc[ ]' accessor to select the first 5 rows of the 3rd and 5th columns. \n",
    "\n",
    "### WARNING\n",
    "Please note that there is a key difference between position-based slicing and position-based indexing. Position-based slicing permits the extraction of a range of elements from a sequence based on their starting and ending positions. In contrast, position-based indexing retrieves a single element from a specific location in the sequence. In the context of a DataFrame, a single element can represent a row, column, or specific value."
   ]
  },
  {
   "cell_type": "markdown",
   "metadata": {},
   "source": [
    "## Slicing with slice object\n",
    "This is a technique used in Python to extract a subset of elements from a list, array, or Pandas DataFrame. The basic idea is to define a slice object with a start and stop value, which can then be used to extract the corresponding subset of elements from the original data structure.\n",
    "\n",
    "Suppose we want to slice the Titanic dataset to include only rows where the passengers are in the age range of 20 to 30. We can use a slice object to define this range and then use it to slice the DataFrame as follows:"
   ]
  },
  {
   "cell_type": "code",
   "execution_count": 24,
   "metadata": {},
   "outputs": [
    {
     "name": "stdout",
     "output_type": "stream",
     "text": [
      "    PassengerId  Survived  Pclass  \\\n",
      "0             1         0       3   \n",
      "2             3         1       3   \n",
      "8             9         1       3   \n",
      "12           13         0       3   \n",
      "23           24         1       1   \n",
      "34           35         0       1   \n",
      "37           38         0       3   \n",
      "41           42         0       2   \n",
      "51           52         0       3   \n",
      "53           54         1       2   \n",
      "\n",
      "                                                 Name     Sex   Age  SibSp  \\\n",
      "0                             Braund, Mr. Owen Harris    male  22.0      1   \n",
      "2                              Heikkinen, Miss. Laina  female  26.0      0   \n",
      "8   Johnson, Mrs. Oscar W (Elisabeth Vilhelmina Berg)  female  27.0      0   \n",
      "12                     Saundercock, Mr. William Henry    male  20.0      0   \n",
      "23                       Sloper, Mr. William Thompson    male  28.0      0   \n",
      "34                            Meyer, Mr. Edgar Joseph    male  28.0      1   \n",
      "37                           Cann, Mr. Ernest Charles    male  21.0      0   \n",
      "41  Turpin, Mrs. William John Robert (Dorothy Ann ...  female  27.0      1   \n",
      "51                       Nosworthy, Mr. Richard Cater    male  21.0      0   \n",
      "53  Faunthorpe, Mrs. Lizzie (Elizabeth Anne Wilkin...  female  29.0      1   \n",
      "\n",
      "    Parch            Ticket     Fare Cabin Embarked  \n",
      "0       0         A/5 21171   7.2500   NaN        S  \n",
      "2       0  STON/O2. 3101282   7.9250   NaN        S  \n",
      "8       2            347742  11.1333   NaN        S  \n",
      "12      0         A/5. 2151   8.0500   NaN        S  \n",
      "23      0            113788  35.5000    A6        S  \n",
      "34      0          PC 17604  82.1708   NaN        C  \n",
      "37      0        A./5. 2152   8.0500   NaN        S  \n",
      "41      0             11668  21.0000   NaN        S  \n",
      "51      0        A/4. 39886   7.8000   NaN        S  \n",
      "53      0              2926  26.0000   NaN        S  \n"
     ]
    }
   ],
   "source": [
    "# Import pandas library and read Titanic dataset\n",
    "import pandas as pd\n",
    "df = pd.read_csv('https://staticasssets.blob.core.windows.net/open-ai-coderunner/scripts/titanic.csv')\n",
    "\n",
    "# Define the slice object for the age range of 20 to 30\n",
    "age_slice = slice(20, 31)\n",
    "\n",
    "# Slice the dataframe using the age slice object\n",
    "age_range_df = df.loc[df['Age'].isin(range(age_slice.start, age_slice.stop))]\n",
    "\n",
    "# View the sliced dataframe\n",
    "print(age_range_df.head(10))"
   ]
  },
  {
   "cell_type": "markdown",
   "metadata": {},
   "source": [
    "In this example, the 'loc' method is used to select rows where the 'Age' column value is within the range defined by the 'age_slice' object. The 'isin()' method is used to check if each 'Age' value is within the range specified by the 'age_slice' object."
   ]
  },
  {
   "cell_type": "markdown",
   "metadata": {},
   "source": [
    "# Filtering\n",
    "## What is filtering?\n",
    "Filtering is the process of selecting a subset of data from a larger dataset based on some condition. It involves applying a Boolean mask or a filter to a dataset to extract only the rows or columns that meet the specified criteria.\n",
    "\n",
    "## Why is it important?\n",
    "In the context of data manipulation, filtering is an important operation because it allows us to focus on specific subsets of the data that are relevant to our analysis or modeling objectives. By filtering the data, we can remove noise and irrelevant information, and extract the relevant insights and patterns.\n",
    "\n",
    "As a data analyst, you may need to filter data based on certain criteria to extract only the relevant information needed for analysis. Filtering allows you to select specific subsets of data that meet certain conditions, such as patients with a specific medical condition or lab results above a certain threshold.\n",
    "\n",
    "For example, if you are working with a large dataset of patient records, you may want to filter the data to only include patients who meet certain criteria such as age, gender, or medical history. By doing so, you can focus your analysis on a subset of patients that are most relevant to your research question. Filtering is a powerful tool for data analysis that allows you to extract meaningful insights and make data-driven decisions."
   ]
  },
  {
   "cell_type": "markdown",
   "metadata": {},
   "source": [
    "## Filtering using booleans\n",
    "Boolean-based filtering is a method of filtering data in a Pandas DataFrame based on one or more conditions. This involves creating a boolean mask that selects the rows of the DataFrame that meet the specified conditions. A boolean mask is a boolean array that can be used to filter a Pandas DataFrame by selecting only the rows that satisfy certain conditions. The mask is a boolean array of the same length as the DataFrame, with a True value for each row that satisfies the condition and a False value for each row that does not.\n",
    "\n",
    "Boolean-based filtering is a flexible and powerful way to filter data and allows you to combine multiple conditions using logical operators such as '&' (and), '|' (or), and '~' (not).\n",
    "\n",
    "For example, suppose you are working with the Titanic dataset, which contains information about the passengers who were onboard the Titanic when it sank. You might want to filter the data to select only the passengers who were female and under the age of 18. You could do this using boolean-based filtering as follows:"
   ]
  },
  {
   "cell_type": "code",
   "execution_count": 25,
   "metadata": {},
   "outputs": [
    {
     "name": "stdout",
     "output_type": "stream",
     "text": [
      "    PassengerId  Survived  Pclass                                  Name  \\\n",
      "9            10         1       2   Nasser, Mrs. Nicholas (Adele Achem)   \n",
      "10           11         1       3       Sandstrom, Miss. Marguerite Rut   \n",
      "14           15         0       3  Vestrom, Miss. Hulda Amanda Adolfina   \n",
      "22           23         1       3           McGowan, Miss. Anna \"Annie\"   \n",
      "24           25         0       3         Palsson, Miss. Torborg Danira   \n",
      "\n",
      "       Sex   Age  SibSp  Parch   Ticket     Fare Cabin Embarked  \n",
      "9   female  14.0      1      0   237736  30.0708   NaN        C  \n",
      "10  female   4.0      1      1  PP 9549  16.7000    G6        S  \n",
      "14  female  14.0      0      0   350406   7.8542   NaN        S  \n",
      "22  female  15.0      0      0   330923   8.0292   NaN        Q  \n",
      "24  female   8.0      3      1   349909  21.0750   NaN        S  \n"
     ]
    }
   ],
   "source": [
    "# Import pandas library and read Titanic dataset\n",
    "import pandas as pd\n",
    "df = pd.read_csv('https://staticasssets.blob.core.windows.net/open-ai-coderunner/scripts/titanic.csv')\n",
    "\n",
    "# Filter the DataFrame to select female passengers under the age of 18\n",
    "female_under_18 = (df['Sex'] == 'female') & (df['Age'] < 18)\n",
    "filtered_df = df[female_under_18]\n",
    "\n",
    "# Print the filtered DataFrame\n",
    "print(filtered_df.head())"
   ]
  },
  {
   "cell_type": "markdown",
   "metadata": {},
   "source": [
    "In this example, we create a boolean mask that selects only the female passengers who are under the age of 18 using the '&' operator to combine two conditions. We then apply this boolean mask to the original DataFrame using square bracket notation, and assign the resulting filtered DataFrame to a new variable 'filtered_df'."
   ]
  },
  {
   "cell_type": "markdown",
   "metadata": {},
   "source": [
    "## Filtering with 'query()' method\n",
    "Filtering based on a query in Pandas refers to selecting data from a DataFrame using a string containing a boolean expression. It can be done using the 'query()' method.\n",
    "\n",
    "Suppose you want to filter the dataset to select only the passengers who survived and were in first or second class. Here's an example of how to filter a dataset using a query:"
   ]
  },
  {
   "cell_type": "code",
   "execution_count": 26,
   "metadata": {},
   "outputs": [
    {
     "name": "stdout",
     "output_type": "stream",
     "text": [
      "    PassengerId  Survived  Pclass  \\\n",
      "1             2         1       1   \n",
      "3             4         1       1   \n",
      "9            10         1       2   \n",
      "11           12         1       1   \n",
      "15           16         1       2   \n",
      "\n",
      "                                                 Name     Sex   Age  SibSp  \\\n",
      "1   Cumings, Mrs. John Bradley (Florence Briggs Th...  female  38.0      1   \n",
      "3        Futrelle, Mrs. Jacques Heath (Lily May Peel)  female  35.0      1   \n",
      "9                 Nasser, Mrs. Nicholas (Adele Achem)  female  14.0      1   \n",
      "11                           Bonnell, Miss. Elizabeth  female  58.0      0   \n",
      "15                   Hewlett, Mrs. (Mary D Kingcome)   female  55.0      0   \n",
      "\n",
      "    Parch    Ticket     Fare Cabin Embarked  \n",
      "1       0  PC 17599  71.2833   C85        C  \n",
      "3       0    113803  53.1000  C123        S  \n",
      "9       0    237736  30.0708   NaN        C  \n",
      "11      0    113783  26.5500  C103        S  \n",
      "15      0    248706  16.0000   NaN        S  \n"
     ]
    }
   ],
   "source": [
    "# Import pandas library and read Titanic dataset\n",
    "import pandas as pd\n",
    "df = pd.read_csv('https://staticasssets.blob.core.windows.net/open-ai-coderunner/scripts/titanic.csv')\n",
    "\n",
    "# filter the DataFrame to select only the survivors in first or second class\n",
    "survivors_df = df.query(\"Survived == 1 and Pclass in [1, 2]\")\n",
    "\n",
    "# display the filtered DataFrame\n",
    "print(survivors_df.head())"
   ]
  },
  {
   "cell_type": "markdown",
   "metadata": {},
   "source": [
    "In this example, we use the 'query()' method to filter the DataFrame based on a boolean expression that specifies that we want to select only the rows where the 'Survived' column is equal to 1 (indicating that the passenger survived) and the 'Pclass' column is equal to 1 or 2 (indicating that the passenger was in first or second class). The resulting DataFrame 'survivors_df' contains only the rows that satisfy the condition.\n",
    "\n",
    "Let's see another example:\n",
    "\n",
    "Suppose you want to filter the Titanic dataset to select only the passengers who were females and under the age of 20."
   ]
  },
  {
   "cell_type": "code",
   "execution_count": 27,
   "metadata": {},
   "outputs": [
    {
     "name": "stdout",
     "output_type": "stream",
     "text": [
      "    PassengerId  Survived  Pclass                                  Name  \\\n",
      "9            10         1       2   Nasser, Mrs. Nicholas (Adele Achem)   \n",
      "10           11         1       3       Sandstrom, Miss. Marguerite Rut   \n",
      "14           15         0       3  Vestrom, Miss. Hulda Amanda Adolfina   \n",
      "22           23         1       3           McGowan, Miss. Anna \"Annie\"   \n",
      "24           25         0       3         Palsson, Miss. Torborg Danira   \n",
      "\n",
      "       Sex   Age  SibSp  Parch   Ticket     Fare Cabin Embarked  \n",
      "9   female  14.0      1      0   237736  30.0708   NaN        C  \n",
      "10  female   4.0      1      1  PP 9549  16.7000    G6        S  \n",
      "14  female  14.0      0      0   350406   7.8542   NaN        S  \n",
      "22  female  15.0      0      0   330923   8.0292   NaN        Q  \n",
      "24  female   8.0      3      1   349909  21.0750   NaN        S  \n"
     ]
    }
   ],
   "source": [
    "# Import pandas library and read Titanic dataset\n",
    "import pandas as pd\n",
    "df = pd.read_csv('https://staticasssets.blob.core.windows.net/open-ai-coderunner/scripts/titanic.csv')\n",
    "\n",
    "# filter the DataFrame to select only female passengers under the age of 20\n",
    "females_under_age_df = df.query(\"Sex == 'female' and Age < 20\")\n",
    "\n",
    "# display the filtered DataFrame\n",
    "print(females_under_age_df.head())"
   ]
  },
  {
   "cell_type": "markdown",
   "metadata": {},
   "source": [
    "In this example, we use the 'query()' method to filter the DataFrame based on a boolean expression that specifies that we want to select only the rows where the 'Sex' column is equal to female and the 'Age' column is less than 20.\n",
    "\n",
    "### NOTE\n",
    "The main difference between Boolean-based and Query-based filtering is the syntax used to write the filter conditions. Boolean-based filtering is more flexible and can handle more complex conditions, but the syntax can sometimes be more verbose and difficult to read. Query-based filtering is more concise and easier to read, but it may not be able to handle all types of conditions."
   ]
  },
  {
   "cell_type": "markdown",
   "metadata": {},
   "source": [
    "## Filtering with 'where()' method\n",
    "The 'where()' method is used to return a new DataFrame with the same shape as the original, but with all the values that do not meet a specified condition replaced by NaN. The method takes a boolean expression as input and returns a new DataFrame with the same shape as the original.\n",
    "\n",
    "Suppose you want to filter the Titanic dataset to replace all the ages greater than 50 with NaN."
   ]
  },
  {
   "cell_type": "code",
   "execution_count": 28,
   "metadata": {},
   "outputs": [
    {
     "name": "stdout",
     "output_type": "stream",
     "text": [
      "   PassengerId  Survived  Pclass  \\\n",
      "0            1         0       3   \n",
      "1            2         1       1   \n",
      "2            3         1       3   \n",
      "3            4         1       1   \n",
      "4            5         0       3   \n",
      "5            6         0       3   \n",
      "6            7         0       1   \n",
      "7            8         0       3   \n",
      "8            9         1       3   \n",
      "9           10         1       2   \n",
      "\n",
      "                                                Name     Sex   Age  SibSp  \\\n",
      "0                            Braund, Mr. Owen Harris    male  22.0      1   \n",
      "1  Cumings, Mrs. John Bradley (Florence Briggs Th...  female  38.0      1   \n",
      "2                             Heikkinen, Miss. Laina  female  26.0      0   \n",
      "3       Futrelle, Mrs. Jacques Heath (Lily May Peel)  female  35.0      1   \n",
      "4                           Allen, Mr. William Henry    male  35.0      0   \n",
      "5                                   Moran, Mr. James    male   NaN      0   \n",
      "6                            McCarthy, Mr. Timothy J    male   NaN      0   \n",
      "7                     Palsson, Master. Gosta Leonard    male   2.0      3   \n",
      "8  Johnson, Mrs. Oscar W (Elisabeth Vilhelmina Berg)  female  27.0      0   \n",
      "9                Nasser, Mrs. Nicholas (Adele Achem)  female  14.0      1   \n",
      "\n",
      "   Parch            Ticket     Fare Cabin Embarked  \n",
      "0      0         A/5 21171   7.2500   NaN        S  \n",
      "1      0          PC 17599  71.2833   C85        C  \n",
      "2      0  STON/O2. 3101282   7.9250   NaN        S  \n",
      "3      0            113803  53.1000  C123        S  \n",
      "4      0            373450   8.0500   NaN        S  \n",
      "5      0            330877   8.4583   NaN        Q  \n",
      "6      0             17463  51.8625   E46        S  \n",
      "7      1            349909  21.0750   NaN        S  \n",
      "8      2            347742  11.1333   NaN        S  \n",
      "9      0            237736  30.0708   NaN        C  \n"
     ]
    }
   ],
   "source": [
    "# Import pandas library and read Titanic dataset\n",
    "import pandas as pd\n",
    "df = pd.read_csv('https://staticasssets.blob.core.windows.net/open-ai-coderunner/scripts/titanic.csv')\n",
    "\n",
    "# filter the DataFrame to replace all the ages greater than 50 with NaN\n",
    "df['Age'] = df['Age'].where(df['Age'] <= 50)\n",
    "\n",
    "# display the filtered DataFrame\n",
    "print(df.head(10))"
   ]
  },
  {
   "cell_type": "markdown",
   "metadata": {},
   "source": [
    "In this example, we use the 'where()' method to filter the DataFrame based on a boolean expression that specifies that we want to replace all the ages greater than 50 with NaN. The resulting DataFrame contains the same shape as the original, but with all the ages greater than 50 replaced by NaN.\n",
    "\n",
    "Let's see another example:\n",
    "\n",
    "Suppose you want to filter the Titanic dataset to replace all the ages greater than 50 with the median age of the passengers."
   ]
  },
  {
   "cell_type": "code",
   "execution_count": 29,
   "metadata": {},
   "outputs": [
    {
     "name": "stdout",
     "output_type": "stream",
     "text": [
      "   PassengerId  Survived  Pclass  \\\n",
      "0            1         0       3   \n",
      "1            2         1       1   \n",
      "2            3         1       3   \n",
      "3            4         1       1   \n",
      "4            5         0       3   \n",
      "5            6         0       3   \n",
      "6            7         0       1   \n",
      "7            8         0       3   \n",
      "8            9         1       3   \n",
      "9           10         1       2   \n",
      "\n",
      "                                                Name     Sex   Age  SibSp  \\\n",
      "0                            Braund, Mr. Owen Harris    male  22.0      1   \n",
      "1  Cumings, Mrs. John Bradley (Florence Briggs Th...  female  38.0      1   \n",
      "2                             Heikkinen, Miss. Laina  female  26.0      0   \n",
      "3       Futrelle, Mrs. Jacques Heath (Lily May Peel)  female  35.0      1   \n",
      "4                           Allen, Mr. William Henry    male  35.0      0   \n",
      "5                                   Moran, Mr. James    male  28.0      0   \n",
      "6                            McCarthy, Mr. Timothy J    male  28.0      0   \n",
      "7                     Palsson, Master. Gosta Leonard    male   2.0      3   \n",
      "8  Johnson, Mrs. Oscar W (Elisabeth Vilhelmina Berg)  female  27.0      0   \n",
      "9                Nasser, Mrs. Nicholas (Adele Achem)  female  14.0      1   \n",
      "\n",
      "   Parch            Ticket     Fare Cabin Embarked  \n",
      "0      0         A/5 21171   7.2500   NaN        S  \n",
      "1      0          PC 17599  71.2833   C85        C  \n",
      "2      0  STON/O2. 3101282   7.9250   NaN        S  \n",
      "3      0            113803  53.1000  C123        S  \n",
      "4      0            373450   8.0500   NaN        S  \n",
      "5      0            330877   8.4583   NaN        Q  \n",
      "6      0             17463  51.8625   E46        S  \n",
      "7      1            349909  21.0750   NaN        S  \n",
      "8      2            347742  11.1333   NaN        S  \n",
      "9      0            237736  30.0708   NaN        C  \n"
     ]
    }
   ],
   "source": [
    "# Import pandas library and read Titanic dataset\n",
    "import pandas as pd\n",
    "df = pd.read_csv('https://staticasssets.blob.core.windows.net/open-ai-coderunner/scripts/titanic.csv')\n",
    "\n",
    "# calculate the median age of the passengers\n",
    "median_age = df['Age'].median()\n",
    "\n",
    "# use the where method to replace all the ages greater than 50 with the median age\n",
    "df['Age'] = df['Age'].where(df['Age'] <= 50, other=median_age)\n",
    "\n",
    "# display the modified DataFrame\n",
    "print(df.head(10))"
   ]
  },
  {
   "cell_type": "markdown",
   "metadata": {},
   "source": [
    "In this example, we first calculate the median age of the passengers using the 'median()' method on the 'Age' column. Then we use the 'where()' method to filter the DataFrame based on a boolean expression that specifies that we want to replace all the ages greater than 50 with the median age. We pass the 'median_age' as an argument to the 'other' parameter of the 'where()' method to replace all ages greater than 50 with the median."
   ]
  },
  {
   "cell_type": "markdown",
   "metadata": {},
   "source": [
    "## Filtering with 'filter()' method\n",
    "The 'filter()' method in Pandas allows you to subset a DataFrame based on the values in the rows or columns. It returns a new DataFrame with only the rows or columns that match the specified criteria.\n",
    "\n",
    "Suppose we want to filter the Titanic dataset to include only the passengers who were in the 1st class and paid a fare above the median fare of all passengers. We can use the 'filter()' method to apply a boolean mask based on the conditions, and then filter the dataset to only include the relevant rows."
   ]
  },
  {
   "cell_type": "code",
   "execution_count": 30,
   "metadata": {},
   "outputs": [
    {
     "name": "stdout",
     "output_type": "stream",
     "text": [
      "    PassengerId  Survived  Pclass  \\\n",
      "1             2         1       1   \n",
      "3             4         1       1   \n",
      "6             7         0       1   \n",
      "11           12         1       1   \n",
      "23           24         1       1   \n",
      "\n",
      "                                                 Name     Sex   Age  SibSp  \\\n",
      "1   Cumings, Mrs. John Bradley (Florence Briggs Th...  female  38.0      1   \n",
      "3        Futrelle, Mrs. Jacques Heath (Lily May Peel)  female  35.0      1   \n",
      "6                             McCarthy, Mr. Timothy J    male  54.0      0   \n",
      "11                           Bonnell, Miss. Elizabeth  female  58.0      0   \n",
      "23                       Sloper, Mr. William Thompson    male  28.0      0   \n",
      "\n",
      "    Parch    Ticket     Fare Cabin Embarked  \n",
      "1       0  PC 17599  71.2833   C85        C  \n",
      "3       0    113803  53.1000  C123        S  \n",
      "6       0     17463  51.8625   E46        S  \n",
      "11      0    113783  26.5500  C103        S  \n",
      "23      0    113788  35.5000    A6        S  \n"
     ]
    }
   ],
   "source": [
    "# Import pandas library and read Titanic dataset\n",
    "import pandas as pd\n",
    "df = pd.read_csv('https://staticasssets.blob.core.windows.net/open-ai-coderunner/scripts/titanic.csv')\n",
    "\n",
    "# Create a boolean mask based on conditions\n",
    "mask = (df['Pclass'] == 1) & (df['Fare'] > df['Fare'].median())\n",
    "\n",
    "# Use filter to apply boolean mask\n",
    "filtered_titanic = df.filter(items=mask.index[mask], axis=0)\n",
    "\n",
    "# View the filtered dataset\n",
    "print(filtered_titanic.head())"
   ]
  },
  {
   "cell_type": "markdown",
   "metadata": {},
   "source": [
    "This will output a dataframe that includes only the passengers who were in the 1st class and paid a fare above the median fare of all passengers."
   ]
  },
  {
   "cell_type": "markdown",
   "metadata": {},
   "source": [
    "## Filtering with 'isna()' method\n",
    "The 'isna()' method in Pandas is used to detect missing or null values in a dataset. When dealing with large datasets, it is common to have missing values in some of the observations. For example, to filter the Titanic dataset to only include rows where the 'Age' column contains missing values, we can use the following code:"
   ]
  },
  {
   "cell_type": "code",
   "execution_count": 31,
   "metadata": {},
   "outputs": [
    {
     "name": "stdout",
     "output_type": "stream",
     "text": [
      "    PassengerId  Survived  Pclass  \\\n",
      "5             6         0       3   \n",
      "17           18         1       2   \n",
      "19           20         1       3   \n",
      "26           27         0       3   \n",
      "28           29         1       3   \n",
      "29           30         0       3   \n",
      "31           32         1       1   \n",
      "32           33         1       3   \n",
      "36           37         1       3   \n",
      "42           43         0       3   \n",
      "\n",
      "                                              Name     Sex  Age  SibSp  Parch  \\\n",
      "5                                 Moran, Mr. James    male  NaN      0      0   \n",
      "17                    Williams, Mr. Charles Eugene    male  NaN      0      0   \n",
      "19                         Masselmani, Mrs. Fatima  female  NaN      0      0   \n",
      "26                         Emir, Mr. Farred Chehab    male  NaN      0      0   \n",
      "28                   O'Dwyer, Miss. Ellen \"Nellie\"  female  NaN      0      0   \n",
      "29                             Todoroff, Mr. Lalio    male  NaN      0      0   \n",
      "31  Spencer, Mrs. William Augustus (Marie Eugenie)  female  NaN      1      0   \n",
      "32                        Glynn, Miss. Mary Agatha  female  NaN      0      0   \n",
      "36                                Mamee, Mr. Hanna    male  NaN      0      0   \n",
      "42                             Kraeff, Mr. Theodor    male  NaN      0      0   \n",
      "\n",
      "      Ticket      Fare Cabin Embarked  \n",
      "5     330877    8.4583   NaN        Q  \n",
      "17    244373   13.0000   NaN        S  \n",
      "19      2649    7.2250   NaN        C  \n",
      "26      2631    7.2250   NaN        C  \n",
      "28    330959    7.8792   NaN        Q  \n",
      "29    349216    7.8958   NaN        S  \n",
      "31  PC 17569  146.5208   B78        C  \n",
      "32    335677    7.7500   NaN        Q  \n",
      "36      2677    7.2292   NaN        C  \n",
      "42    349253    7.8958   NaN        C  \n"
     ]
    }
   ],
   "source": [
    "# Import pandas library and read Titanic dataset\n",
    "import pandas as pd\n",
    "df = pd.read_csv('https://staticasssets.blob.core.windows.net/open-ai-coderunner/scripts/titanic.csv')\n",
    "\n",
    "# Filter the dataset to only include rows with missing Age values\n",
    "filtered_titanic = df[df['Age'].isna()]\n",
    "\n",
    "# View the filtered dataset\n",
    "print(filtered_titanic.head(10))\n",
    "\n",
    "\n",
    "# This version will only get data with age values that are not NaN\n",
    "# filtered_titanic = df[~df['Age'].isna()]"
   ]
  },
  {
   "cell_type": "markdown",
   "metadata": {},
   "source": [
    "This code applies the 'isna()' method to the 'Age' column of the dataframe to create a boolean mask that is True for rows with missing values in this column. We pass this boolean mask to the indexing operator ('[ ]') of the dataframe to filter the dataset to only include the relevant rows."
   ]
  },
  {
   "cell_type": "markdown",
   "metadata": {},
   "source": [
    "## Filtering with 'between()' method\n",
    "The 'between()' method is a filtering method in Pandas that allows you to filter a DataFrame based on whether a column's values are within a specified range. This can be particularly useful when working with numerical data. To use the 'between()' method, you need to specify the column to filter, as well as the minimum and maximum values that the column's values should fall between.\n",
    "\n",
    "Suppose you want to filter the Titanic dataset to include only the passengers who paid a fare between 50 and 100 dollars. Here's the code for implementing this scenario:"
   ]
  },
  {
   "cell_type": "code",
   "execution_count": 32,
   "metadata": {},
   "outputs": [
    {
     "name": "stdout",
     "output_type": "stream",
     "text": [
      "     PassengerId  Survived  Pclass  \\\n",
      "1              2         1       1   \n",
      "3              4         1       1   \n",
      "6              7         0       1   \n",
      "34            35         0       1   \n",
      "35            36         0       1   \n",
      "..           ...       ...     ...   \n",
      "849          850         1       1   \n",
      "863          864         0       3   \n",
      "867          868         0       1   \n",
      "871          872         1       1   \n",
      "879          880         1       1   \n",
      "\n",
      "                                                  Name     Sex   Age  SibSp  \\\n",
      "1    Cumings, Mrs. John Bradley (Florence Briggs Th...  female  38.0      1   \n",
      "3         Futrelle, Mrs. Jacques Heath (Lily May Peel)  female  35.0      1   \n",
      "6                              McCarthy, Mr. Timothy J    male  54.0      0   \n",
      "34                             Meyer, Mr. Edgar Joseph    male  28.0      1   \n",
      "35                      Holverson, Mr. Alexander Oskar    male  42.0      1   \n",
      "..                                                 ...     ...   ...    ...   \n",
      "849       Goldenberg, Mrs. Samuel L (Edwiga Grabowska)  female   NaN      1   \n",
      "863                  Sage, Miss. Dorothy Edith \"Dolly\"  female   NaN      8   \n",
      "867               Roebling, Mr. Washington Augustus II    male  31.0      0   \n",
      "871   Beckwith, Mrs. Richard Leonard (Sallie Monypeny)  female  47.0      1   \n",
      "879      Potter, Mrs. Thomas Jr (Lily Alexenia Wilson)  female  56.0      0   \n",
      "\n",
      "     Parch    Ticket     Fare Cabin Embarked  \n",
      "1        0  PC 17599  71.2833   C85        C  \n",
      "3        0    113803  53.1000  C123        S  \n",
      "6        0     17463  51.8625   E46        S  \n",
      "34       0  PC 17604  82.1708   NaN        C  \n",
      "35       0    113789  52.0000   NaN        S  \n",
      "..     ...       ...      ...   ...      ...  \n",
      "849      0     17453  89.1042   C92        C  \n",
      "863      2  CA. 2343  69.5500   NaN        S  \n",
      "867      0  PC 17590  50.4958   A24        S  \n",
      "871      1     11751  52.5542   D35        S  \n",
      "879      1     11767  83.1583   C50        C  \n",
      "\n",
      "[108 rows x 12 columns]\n"
     ]
    }
   ],
   "source": [
    "# Import pandas library and read Titanic dataset\n",
    "import pandas as pd\n",
    "df = pd.read_csv('https://staticasssets.blob.core.windows.net/open-ai-coderunner/scripts/titanic.csv')\n",
    "\n",
    "# Create a boolean mask for the Fare column using between()\n",
    "fare_mask = df['Fare'].between(50, 100)\n",
    "\n",
    "# Filter the dataset to only include rows where the fare is between $50 and $100\n",
    "filtered_titanic = df[fare_mask]\n",
    "\n",
    "# View the filtered dataset\n",
    "print(filtered_titanic)"
   ]
  },
  {
   "cell_type": "markdown",
   "metadata": {},
   "source": [
    "In this code, we first create a boolean mask for the 'Fare' column using the 'between()' method, specifying that we want to include fares between 50 and 100. Finally, we filter the original dataset using this mask.\n",
    "\n",
    "### NOTE\n",
    "The 'between()' method is inclusive, meaning that values at the endpoints of the range are included in the resulting boolean mask. If you want to exclude these values, you can use the 'gt()' (greater than) and 'lt()' (less than) methods instead.\n",
    "\n",
    "Here's an example that shows how to create a boolean mask based on the 'Fare' column using the 'gt()' and 'lt()' methods:"
   ]
  },
  {
   "cell_type": "code",
   "execution_count": 33,
   "metadata": {},
   "outputs": [
    {
     "name": "stdout",
     "output_type": "stream",
     "text": [
      "     PassengerId  Survived  Pclass  \\\n",
      "1              2         1       1   \n",
      "3              4         1       1   \n",
      "6              7         0       1   \n",
      "34            35         0       1   \n",
      "35            36         0       1   \n",
      "..           ...       ...     ...   \n",
      "849          850         1       1   \n",
      "863          864         0       3   \n",
      "867          868         0       1   \n",
      "871          872         1       1   \n",
      "879          880         1       1   \n",
      "\n",
      "                                                  Name     Sex   Age  SibSp  \\\n",
      "1    Cumings, Mrs. John Bradley (Florence Briggs Th...  female  38.0      1   \n",
      "3         Futrelle, Mrs. Jacques Heath (Lily May Peel)  female  35.0      1   \n",
      "6                              McCarthy, Mr. Timothy J    male  54.0      0   \n",
      "34                             Meyer, Mr. Edgar Joseph    male  28.0      1   \n",
      "35                      Holverson, Mr. Alexander Oskar    male  42.0      1   \n",
      "..                                                 ...     ...   ...    ...   \n",
      "849       Goldenberg, Mrs. Samuel L (Edwiga Grabowska)  female   NaN      1   \n",
      "863                  Sage, Miss. Dorothy Edith \"Dolly\"  female   NaN      8   \n",
      "867               Roebling, Mr. Washington Augustus II    male  31.0      0   \n",
      "871   Beckwith, Mrs. Richard Leonard (Sallie Monypeny)  female  47.0      1   \n",
      "879      Potter, Mrs. Thomas Jr (Lily Alexenia Wilson)  female  56.0      0   \n",
      "\n",
      "     Parch    Ticket     Fare Cabin Embarked  \n",
      "1        0  PC 17599  71.2833   C85        C  \n",
      "3        0    113803  53.1000  C123        S  \n",
      "6        0     17463  51.8625   E46        S  \n",
      "34       0  PC 17604  82.1708   NaN        C  \n",
      "35       0    113789  52.0000   NaN        S  \n",
      "..     ...       ...      ...   ...      ...  \n",
      "849      0     17453  89.1042   C92        C  \n",
      "863      2  CA. 2343  69.5500   NaN        S  \n",
      "867      0  PC 17590  50.4958   A24        S  \n",
      "871      1     11751  52.5542   D35        S  \n",
      "879      1     11767  83.1583   C50        C  \n",
      "\n",
      "[107 rows x 12 columns]\n"
     ]
    }
   ],
   "source": [
    "# Import pandas library and read Titanic dataset\n",
    "import pandas as pd\n",
    "df = pd.read_csv('https://staticasssets.blob.core.windows.net/open-ai-coderunner/scripts/titanic.csv')\n",
    "\n",
    "# Create a boolean mask to select passengers with fare between $50 and $100 (excluding $50 and $100)\n",
    "fare_mask = df['Fare'].gt(50) & df['Fare'].lt(100)\n",
    "\n",
    "# Filter the dataset to only include rows where the fare is between $50 and $100\n",
    "filtered_titanic = df[fare_mask]\n",
    "\n",
    "# View the filtered dataset\n",
    "print(filtered_titanic)"
   ]
  },
  {
   "cell_type": "markdown",
   "metadata": {},
   "source": [
    "In this example, we used the 'gt()' (greater than) and 'lt()' (less than) methods to create a boolean mask that selects passengers with fares between 50 and 100, but excludes passengers with fares 50 and 100. We used the '&' operator to combine the two conditions into a single boolean mask.\n",
    "\n",
    "Using the 'gt()' and 'lt()' methods, we can exclude the fare values at the endpoints of the range to obtain a more precise boolean mask. After applying these methods to the 'Fare' column of the Titanic dataset, we see that one row has been excluded, resulting in a boolean mask that selects 107 rows that meet the specified condition. Therefore, it is important to be aware of inclusive vs exclusive filtering when using boolean-based filtering methods in Pandas."
   ]
  },
  {
   "cell_type": "markdown",
   "metadata": {},
   "source": [
    "## Filtering with 'nsmallest()' method\n",
    "Filtering with the 'nsmallest()' method is a common data manipulation technique used to extract a specific number of rows with the smallest values from a Pandas DataFrame. This method is especially useful in scenarios where you want to extract the top or bottom n values from a large dataset.\n",
    "\n",
    "For example, if you want to extract the 10 passengers with the smallest ages, you can use the 'nsmallest()' method. Here's how you can implement this in Python:"
   ]
  },
  {
   "cell_type": "code",
   "execution_count": 34,
   "metadata": {},
   "outputs": [
    {
     "name": "stdout",
     "output_type": "stream",
     "text": [
      "     PassengerId  Survived  Pclass                             Name     Sex  \\\n",
      "803          804         1       3  Thomas, Master. Assad Alexander    male   \n",
      "755          756         1       2        Hamalainen, Master. Viljo    male   \n",
      "469          470         1       3    Baclini, Miss. Helene Barbara  female   \n",
      "644          645         1       3           Baclini, Miss. Eugenie  female   \n",
      "78            79         1       2    Caldwell, Master. Alden Gates    male   \n",
      "831          832         1       2  Richards, Master. George Sibley    male   \n",
      "305          306         1       1   Allison, Master. Hudson Trevor    male   \n",
      "164          165         0       3     Panula, Master. Eino Viljami    male   \n",
      "172          173         1       3     Johnson, Miss. Eleanor Ileen  female   \n",
      "183          184         1       2        Becker, Master. Richard F    male   \n",
      "\n",
      "      Age  SibSp  Parch   Ticket      Fare    Cabin Embarked  \n",
      "803  0.42      0      1     2625    8.5167      NaN        C  \n",
      "755  0.67      1      1   250649   14.5000      NaN        S  \n",
      "469  0.75      2      1     2666   19.2583      NaN        C  \n",
      "644  0.75      2      1     2666   19.2583      NaN        C  \n",
      "78   0.83      0      2   248738   29.0000      NaN        S  \n",
      "831  0.83      1      1    29106   18.7500      NaN        S  \n",
      "305  0.92      1      2   113781  151.5500  C22 C26        S  \n",
      "164  1.00      4      1  3101295   39.6875      NaN        S  \n",
      "172  1.00      1      1   347742   11.1333      NaN        S  \n",
      "183  1.00      2      1   230136   39.0000       F4        S  \n"
     ]
    }
   ],
   "source": [
    "# Import pandas library and read Titanic dataset\n",
    "import pandas as pd\n",
    "df = pd.read_csv('https://staticasssets.blob.core.windows.net/open-ai-coderunner/scripts/titanic.csv')\n",
    "\n",
    "# Extract the 10 passengers with the smallest ages\n",
    "youngest_passengers = df.nsmallest(10, 'Age')\n",
    "\n",
    "# Print the resulting DataFrame\n",
    "print(youngest_passengers)"
   ]
  },
  {
   "cell_type": "markdown",
   "metadata": {},
   "source": [
    "This code extracts the 10 passengers with the smallest ages from the Titanic dataset, sorted by the 'Age' column. Some of the extracted ages have decimal values, such as 0.42 and 0.67, which may seem unrealistic as ages. However, these decimal values may represent months or fractions of a year. Additionally, there may be missing or incomplete data in the dataset, which could result in some of the extracted ages appearing as non-working values."
   ]
  },
  {
   "cell_type": "markdown",
   "metadata": {},
   "source": [
    "## Filtering with 'nlargest()' method\n",
    "The 'nlargest()' method is a data manipulation tool in Python's Pandas library that allows you to filter a DataFrame by selecting the rows with the n largest values in a specific column. This can be useful in scenarios where you want to identify the top n highest values in a particular dataset.\n",
    "\n",
    "Suppose we have a dataset containing information about the passengers on the Titanic, including their age, gender, ticket class, and whether they survived or not. We want to identify the five oldest passengers who survived the disaster."
   ]
  },
  {
   "cell_type": "code",
   "execution_count": 35,
   "metadata": {},
   "outputs": [
    {
     "name": "stdout",
     "output_type": "stream",
     "text": [
      "     PassengerId  Survived  Pclass                                       Name  \\\n",
      "630          631         1       1       Barkworth, Mr. Algernon Henry Wilson   \n",
      "275          276         1       1          Andrews, Miss. Kornelia Theodosia   \n",
      "483          484         1       3                     Turkula, Mrs. (Hedwig)   \n",
      "570          571         1       2                         Harris, Mr. George   \n",
      "829          830         1       1  Stone, Mrs. George Nelson (Martha Evelyn)   \n",
      "\n",
      "        Sex   Age  SibSp  Parch       Ticket     Fare Cabin Embarked  \n",
      "630    male  80.0      0      0        27042  30.0000   A23        S  \n",
      "275  female  63.0      1      0        13502  77.9583    D7        S  \n",
      "483  female  63.0      0      0         4134   9.5875   NaN        S  \n",
      "570    male  62.0      0      0  S.W./PP 752  10.5000   NaN        S  \n",
      "829  female  62.0      0      0       113572  80.0000   B28      NaN  \n"
     ]
    }
   ],
   "source": [
    "# Import pandas library and read Titanic dataset\n",
    "import pandas as pd\n",
    "df = pd.read_csv('https://staticasssets.blob.core.windows.net/open-ai-coderunner/scripts/titanic.csv')\n",
    "\n",
    "# Filter the dataset to only include passengers who survived\n",
    "survived = df[df['Survived'] == 1]\n",
    "\n",
    "# Use nlargest to select the five rows with the largest 'Age' values\n",
    "oldest_survivors = survived.nlargest(5, 'Age')\n",
    "\n",
    "# Display the result\n",
    "print(oldest_survivors)"
   ]
  },
  {
   "cell_type": "markdown",
   "metadata": {},
   "source": [
    "In this code, we filter the dataset to only include passengers who survived using boolean indexing. We create a new DataFrame called 'survived' that contains only the rows where the 'Survived' column is equal to 1. Next, we use the 'nlargest()' method on the 'survived' DataFrame to select the five rows with the largest 'Age' values."
   ]
  }
 ],
 "metadata": {
  "kernelspec": {
   "display_name": "Python 3",
   "language": "python",
   "name": "python3"
  },
  "language_info": {
   "codemirror_mode": {
    "name": "ipython",
    "version": 3
   },
   "file_extension": ".py",
   "mimetype": "text/x-python",
   "name": "python",
   "nbconvert_exporter": "python",
   "pygments_lexer": "ipython3",
   "version": "3.11.9"
  }
 },
 "nbformat": 4,
 "nbformat_minor": 2
}
