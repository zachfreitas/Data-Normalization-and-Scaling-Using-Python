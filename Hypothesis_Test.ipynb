{
 "cells": [
  {
   "cell_type": "markdown",
   "metadata": {},
   "source": [
    "# Overview\n",
    "Data analysis is the process of systematically examining and interpreting data to conclude, identify patterns, and make decisions. Data analysts work with large and complex datasets and use a variety of tools and techniques to clean, transform, and aggregate the data. They also use statistical methods to identify patterns, correlations, and trends within the data, and to make predictions about future outcomes.\n",
    "\n",
    "Data analysis is a critical part of data wrangling because it allows us to make sense of large and complex datasets, and to use that information to drive better decision-making. During the data wrangling process, we typically encounter data that requires cleaning, transformation, and aggregation to be analyzed. Once the data has been prepared, data analysis helps us to identify trends, correlations, and relationships within the data.\n",
    "\n",
    "Moreover, data analysis helps us to evaluate the effectiveness of different data-wrangling techniques and make necessary adjustments to ensure data accuracy and completeness. This ensures that the results we get from data analysis are reliable and trustworthy, allowing us to make informed decisions.\n",
    "\n",
    "In this module, we will cover the topic of hypothesis tests which is one of the ways we can analyze data. Hypothesis tests help us to determine whether a particular assumption or claim about a population is valid or not based on a sample of data. This is useful for making informed decisions, such as determining whether a new product is more effective than an existing one, or whether a particular marketing campaign is successful or not.\n",
    "\n",
    "# Learning Objectives\n",
    "In this module, the learners will:\n",
    "\n",
    "* Discuss the importance of data analysis in making informed decisions\n",
    "* Apply various hypothesis tests to analyze and interpret data\n",
    "* Evaluate the results of hypothesis tests to draw conclusions about the data\n",
    "* Analyze the relationships between variables using correlation analysis\n",
    "Let's get started!\n",
    "\n",
    "# Dataset\n",
    "Titanic dataset: This is a well-known and widely used dataset in the field of data analysis and machine learning. This dataset contains information about the passengers on the Titanic ship, including their demographic information, ticket information, and survival status. In this exercise, we're using the Titanic dataset to perform various hypothesis tests.\n",
    "\n",
    "Here's a description of the columns in the dataset:\n",
    "\n",
    "* PassengerId: This column is a unique identifier assigned to each passenger.\n",
    "* Age: This column specifies the age of the passenger.\n",
    "* Name: This column specifies the name of the passenger.\n",
    "* Sex: This column specifies the gender of the passenger (Male or Female).\n",
    "* Survived: This column specifies whether the passenger survived the Titanic disaster or not. The values in this column can either be 0 (did not survive) or 1 (survived).\n",
    "* Pclass (Passenger Class): This column specifies the class of the passenger (1st, 2nd, or 3rd class).\n",
    "* SibSp (Siblings/Spouses Aboard): This column specifies the number of siblings or spouses the passenger was traveling with.\n",
    "* Parch (Parents/Children Aboard): This column specifies the number of parents or children the passenger was traveling with.\n",
    "* Ticket: This column specifies the ticket number assigned to the passenger.\n",
    "* Fare: This column specifies the fare paid by the passenger for their ticket.\n",
    "* Cabin: This column specifies the cabin number assigned to the passenger.\n",
    "* Embarked: This column specifies the port where the passenger boarded the Titanic (C = Cherbourg; Q = Queenstown; S = Southampton).\n",
    "\n",
    "# What are hypothesis tests?\n",
    "Performing hypothesis tests is an essential aspect of data analysis because it allows us to make informed decisions based on the available evidence. Hypothesis testing is used to determine whether there is sufficient evidence to support or reject a particular claim or hypothesis about a population parameter based on a sample of data.\n",
    "\n",
    "The process of performing a hypothesis test involves the following steps:\n",
    "\n",
    "1. **State the null and alternative hypotheses:** The null hypothesis (H0) is the default assumption or status quo that there is no significant difference between a sample statistic and a population parameter, while the alternative hypothesis (Ha) is the claim or hypothesis that we are testing.\n",
    "2. **Choose the appropriate test statistic:** The choice of the test statistic depends on the type of data and the hypothesis being tested.\n",
    "3. **Determine the significance level:** The significance level (alpha) is the probability of rejecting the null hypothesis when it is actually true. Typically, a significance level of 0.05 is used.\n",
    "4. **Calculate the p-value:** The p-value is the probability of obtaining a sample statistic as extreme or more extreme than the observed value, assuming that the null hypothesis is true.\n",
    "5. **Compare the p-value with the significance level:** If the p-value is less than the significance level, we reject the null hypothesis in favor of the alternative hypothesis. Otherwise, we fail to reject the null hypothesis.\n",
    "\n",
    "## Why are they important?\n",
    "Performing hypothesis tests is important in data analysis because it allows us to make data-driven decisions based on statistical evidence rather than relying on intuition or personal beliefs. Hypothesis testing can be used to test a wide range of claims or hypotheses, such as whether a new product is more effective than an existing one, whether there is a significant difference between two groups, or whether a particular intervention has an impact on a certain outcome.\n",
    "\n",
    "In addition, hypothesis testing can help to identify potential errors or biases in the data, such as sampling bias or measurement error. It can also be used to assess the reliability and validity of statistical models and to test assumptions underlying statistical analyses. Therefore, performing hypothesis tests is an essential tool for making valid and reliable inferences from data.\n",
    "\n"
   ]
  },
  {
   "cell_type": "markdown",
   "metadata": {},
   "source": [
    "## Performing t-test\n",
    "The t-test is a statistical hypothesis test that is used to compare the means of two groups to see if they are statistically different from each other. In the context of the Titanic dataset, we can use a t-test to compare the ages of the survivors and the non-survivors to see if there is a significant difference in age between the two groups.\n",
    "\n",
    "Here is an example of how to perform a t-test on the Titanic dataset using Python:\n",
    "\n",
    "Null hypothesis: No significant difference in mean age between the survivors and non-survivors.\n",
    "Alternative hypothesis: Significant difference in mean age between the two groups."
   ]
  },
  {
   "cell_type": "code",
   "execution_count": 6,
   "metadata": {},
   "outputs": [
    {
     "name": "stdout",
     "output_type": "stream",
     "text": [
      "t-statistic: -2.06668694625381\n",
      "p-value: 0.03912465401348249\n"
     ]
    }
   ],
   "source": [
    "import pandas as pd\n",
    "from scipy.stats import ttest_ind\n",
    "\n",
    "df = pd.read_csv('https://staticasssets.blob.core.windows.net/open-ai-coderunner/scripts/titanic.csv')\n",
    "\n",
    "# subset the data into survivors and non-survivors\n",
    "survivors = df[df['Survived'] == 1]['Age'].dropna()\n",
    "non_survivors = df[df['Survived'] == 0]['Age'].dropna()\n",
    "\n",
    "# perform a t-test to compare the mean age of survivors and non-survivors\n",
    "t_statistic, p_value = ttest_ind(survivors, non_survivors)\n",
    "\n",
    "print('t-statistic:', t_statistic)\n",
    "print('p-value:', p_value)"
   ]
  },
  {
   "cell_type": "markdown",
   "metadata": {},
   "source": [
    "In the code above, we first load the Titanic dataset using Pandas. We then subset the data into two groups: survivors and non-survivors. We drop any missing values from the 'Age' column for both groups.\n",
    "\n",
    "Next, we use the 'ttest_ind()' function from the scipy.stats module to perform a t-test. This function takes two arrays as input, in this case, the ages of the survivors and non-survivors. The function returns the t-statistic and the p-value for the test.\n",
    "\n",
    "The t-test yielded a t-statistic of -2.0667 and a p-value of 0.0391. The negative t-statistic indicates that non-survivors had a higher mean age than survivors. The low p-value suggests a statistically significant difference in age between the two groups, allowing us to reject the null hypothesis and conclude that there is a significant difference in age between survivors and non-survivors in the Titanic dataset."
   ]
  },
  {
   "cell_type": "markdown",
   "metadata": {},
   "source": [
    "## Performing analysis of variance test\n",
    "Analysis of variance (ANOVA) is a statistical method used to determine if there are any significant differences between the means of three or more independent groups. It is an extension of the t-test which only compares the means of two groups. ANOVA calculates a test statistic called F-statistic, which compares the variance between groups to the variance within groups. If the F-statistic is large and the p-value is small, it indicates that there are significant differences between the means of the groups.\n",
    "\n",
    "Null hypothesis: There is no significant difference in the mean ages of passengers across all three passenger classes.\n",
    "Alternative hypothesis: There is a significant difference in the mean ages of passengers across at least two of the three passenger classes.\n",
    "\n",
    "To perform ANOVA on the Titanic dataset, we can use the 'f_oneway()' function. This function takes in multiple arrays or series, each representing a different group, and returns the F-statistic and the p-value.\n",
    "\n",
    "Here is the code to perform ANOVA on the age of the passengers in the Titanic dataset by passenger class:"
   ]
  },
  {
   "cell_type": "code",
   "execution_count": 7,
   "metadata": {},
   "outputs": [
    {
     "name": "stdout",
     "output_type": "stream",
     "text": [
      "F-statistic: 57.44\n",
      "p-value: 0.0000\n"
     ]
    }
   ],
   "source": [
    "import pandas as pd\n",
    "from scipy.stats import f_oneway\n",
    "\n",
    "df = pd.read_csv('https://staticasssets.blob.core.windows.net/open-ai-coderunner/scripts/titanic.csv')\n",
    "\n",
    "# Group ages by passenger class\n",
    "age_by_class = [df[df['Pclass'] == 1]['Age'].dropna(),\n",
    "                df[df['Pclass'] == 2]['Age'].dropna(),\n",
    "                df[df['Pclass'] == 3]['Age'].dropna()]\n",
    "\n",
    "# Perform ANOVA\n",
    "f_stat, p_value = f_oneway(*age_by_class)\n",
    "\n",
    "# Print the results\n",
    "print(\"F-statistic: {:.2f}\".format(f_stat))\n",
    "print(\"p-value: {:.4f}\".format(p_value))"
   ]
  },
  {
   "cell_type": "markdown",
   "metadata": {},
   "source": [
    "In this code, we first load the Titanic dataset using Pandas. We then group the ages of the passengers by passenger class and store them in a list of arrays called 'age_by_class'. When performing ANOVA, grouping is necessary to compare the means of multiple groups and determine if there is a statistically significant difference between them. We use the 'dropna()' method to remove missing values in the 'Age' column. Next, we call the 'f_oneway()' function and pass in the arrays from 'age_by_class'. This returns the F-statistic and p-value.\n",
    "\n",
    "The larger the F-statistic, the more likely it is that there is a difference between at least two of the groups. In this case, the F-statistic is 57.44, indicating a significant difference between the groups.\n",
    "\n",
    "Based on the obtained p-value of 0.0000, which is smaller than the significance level of 0.05, we reject the null hypothesis. This indicates that there is a statistically significant difference between the means of at least two groups.\n",
    "\n",
    "### NOTE\n",
    "When using ANOVA, it is important to ensure that the assumptions of normality, homoscedasticity, and independence are met. Additionally, ANOVA only tests for differences between group means and does not identify which specific groups are different from one another. Finally, it is important to keep in mind that ANOVA assumes that the groups being compared are independent of one another. If there is any dependence or correlation between the groups, the results of ANOVA may not be valid."
   ]
  },
  {
   "cell_type": "markdown",
   "metadata": {},
   "source": [
    "## Performing chi-square test\n",
    "The chi-square test is a statistical method used to determine the association between two categorical variables. In the context of the Titanic dataset, we can use the chi-square test to examine the relationship between two categorical variables, such as passenger class and survival status.\n",
    "\n",
    "Null hypothesis: There is no association between the passenger class and survival status. \n",
    "Alternative hypothesis: There is an association between the passenger class and survival status.\n",
    "\n",
    "The chi-square test produces a test statistic and a p-value. If the p-value is less than the level of significance (0.05), we reject the null hypothesis and conclude that there is evidence of an association between the two variables.\n",
    "\n",
    "To perform a chi-square test on the Titanic dataset, we can use the 'chi2_contingency()' function in Python. This function takes a contingency table as input, which is a table that shows the frequency distribution of two categorical variables. Here's an example code:"
   ]
  },
  {
   "cell_type": "code",
   "execution_count": 8,
   "metadata": {},
   "outputs": [
    {
     "name": "stdout",
     "output_type": "stream",
     "text": [
      "Chi-Square Statistic: 102.89\n",
      "p-value: 0.0000\n",
      "Degrees of freedom: 2\n",
      "Expected frequencies: [[133.09090909  82.90909091]\n",
      " [113.37373737  70.62626263]\n",
      " [302.53535354 188.46464646]]\n"
     ]
    }
   ],
   "source": [
    "import pandas as pd\n",
    "from scipy.stats import chi2_contingency\n",
    "\n",
    "df = pd.read_csv('https://staticasssets.blob.core.windows.net/open-ai-coderunner/scripts/titanic.csv')\n",
    "\n",
    "# Create a contingency table of passenger class and survival status\n",
    "contingency_table = pd.crosstab(df['Pclass'], df['Survived'])\n",
    "# Run chi-square test\n",
    "chi2_stat, p_val, dof, ex = chi2_contingency(contingency_table)\n",
    "\n",
    "# Print results\n",
    "print('Chi-Square Statistic: {:.2f}'.format(chi2_stat))\n",
    "print('p-value: {:.4f}'.format(p_val))\n",
    "print('Degrees of freedom:',dof)\n",
    "print('Expected frequencies:',ex)"
   ]
  },
  {
   "cell_type": "markdown",
   "metadata": {},
   "source": [
    "In this code, we first load the Titanic dataset into a Pandas DataFrame. We then create a contingency table using the 'pd.crosstab()' function to show the frequency distribution of passenger class and survival status. Next, we run the 'chi2_contingency()' function to perform the chi-square test and calculate the test statistic, p-value, degrees of freedom (dof), and expected frequencies.\n",
    "\n",
    "The chi-square statistic value of 102.89 indicates the degree of deviation between two categorical variables. A higher chi-square value indicates a greater deviation of the observed distribution from the expected distribution, which suggests that there may be a significant difference between the two distributions. The p-value of 0.0000 suggests that there is a statistically significant association between the passenger class and survival status.\n",
    "\n",
    "Therefore, we can reject the null hypothesis and conclude that there is a significant association between the variables being compared in the chi-square test. The degree of freedom value 2 in the result refers to the number of categories that have been used to create the contingency table.\n",
    "\n",
    "### NOTE\n",
    "In the context of the Titanic dataset, we performed the chi-squared test to determine the association between two categorical variables. Specifically, we applied the test of independence to investigate the relationship between survival and passenger class. It's worth noting that there are other types of chi-squared tests, such as the goodness-of-fit test, which can be used to test different types of hypotheses on categorical data."
   ]
  },
  {
   "cell_type": "markdown",
   "metadata": {},
   "source": [
    "## Performing pearson correlation\n",
    "Pearson correlation is a statistical measure used to determine the relationship between two continuous variables. It ranges from -1 to 1, with -1 indicating a perfect negative correlation, 0 indicating no correlation, and 1 indicating a perfect positive correlation. In data analysis on the Titanic dataset, the Pearson correlation can be used to determine the relationship between two continuous variables such as 'Age' and 'Fare'.\n",
    "\n",
    "Null hypothesis: There is no significant correlation between the age and fare of passengers. \n",
    "Alternative hypothesis: There is a significant positive or negative correlation between the age and fare of passengers.\n",
    "\n",
    "Here is an example code in Python for calculating the Pearson correlation coefficient using the Titanic dataset:"
   ]
  },
  {
   "cell_type": "code",
   "execution_count": 9,
   "metadata": {},
   "outputs": [
    {
     "name": "stdout",
     "output_type": "stream",
     "text": [
      "Pearson correlation coefficient between Age and Fare: 0.09606669176903894\n"
     ]
    }
   ],
   "source": [
    "import pandas as pd\n",
    "\n",
    "df = pd.read_csv('https://staticasssets.blob.core.windows.net/open-ai-coderunner/scripts/titanic.csv')\n",
    "\n",
    "# Calculate Pearson correlation coefficient between Age and Fare\n",
    "corr_coeff = df['Age'].corr(df['Fare'], method='pearson')\n",
    "\n",
    "# Print the correlation coefficient\n",
    "print(\"Pearson correlation coefficient between Age and Fare:\", corr_coeff)"
   ]
  },
  {
   "cell_type": "markdown",
   "metadata": {},
   "source": [
    "In this code, we first load the Titanic dataset using the Pandas library. We then calculate the Pearson correlation coefficient between the 'Age' and 'Fare' columns using the 'corr()' method with the argument method='pearson'.\n",
    "\n",
    "In the result, the Pearson correlation coefficient between 'Age' and 'Fare' is 0.0960666917690389. This indicates that there is a weak positive linear relationship between the 'Age' and 'Fare' columns in the Titanic dataset. In other words, as the age of the passengers increases, their fare tends to increase slightly as well, but the relationship is not very strong.\n",
    "\n",
    "It is important to note that the Pearson correlation coefficient only measures the degree of the linear relationship between two variables and does not capture other types of relationships such as non-linear or categorical relationships. Therefore, it should be used in conjunction with other methods and tools to fully understand the relationship between variables."
   ]
  },
  {
   "cell_type": "markdown",
   "metadata": {},
   "source": [
    "# Performing Mann-Whitney U test\n",
    "This is a non-parametric statistical test used to compare two independent groups of samples. It is used when the assumption of normality is not met or the sample sizes are small. In data analysis on the Titanic dataset, the Mann-Whitney U test can be used to compare the median age of survivors and non-survivors.\n",
    "\n",
    "Null hypothesis: There is no significant difference in the median age between survivors and non-survivors.\n",
    "Alternative hypothesis: There is a significant difference in the median age between survivors and non-survivors.\n",
    "\n",
    "Here is an example code in Python for conducting the Mann-Whitney U test using the Titanic dataset:"
   ]
  },
  {
   "cell_type": "code",
   "execution_count": 10,
   "metadata": {},
   "outputs": [
    {
     "name": "stdout",
     "output_type": "stream",
     "text": [
      "Mann-Whitney U statistic: 57682.0\n",
      "p-value: 0.16049252477737763\n"
     ]
    }
   ],
   "source": [
    "import pandas as pd\n",
    "from scipy.stats import mannwhitneyu\n",
    "\n",
    "# Load Titanic dataset\n",
    "df = pd.read_csv('https://staticasssets.blob.core.windows.net/open-ai-coderunner/scripts/titanic.csv')\n",
    "\n",
    "# Drop the rows with NaN values in the 'Age' column\n",
    "df.dropna(subset=['Age'], inplace=True)\n",
    "\n",
    "# Split the dataset into two groups: survivors and non-survivors\n",
    "survivors = df[df['Survived'] == 1]['Age']\n",
    "non_survivors = df[df['Survived'] == 0]['Age']\n",
    "\n",
    "# Conduct the Mann-Whitney U test\n",
    "statistic, p_value = mannwhitneyu(survivors, non_survivors)\n",
    "\n",
    "# Print the test results\n",
    "print(\"Mann-Whitney U statistic:\", statistic)\n",
    "print(\"p-value:\", p_value)"
   ]
  },
  {
   "cell_type": "markdown",
   "metadata": {},
   "source": [
    "In this code, we load the Titanic dataset using the Pandas library. We then remove the rows with NaN values in the 'Age' column using the 'dropna()' method. After that, we split the dataset into two groups based on whether or not each passenger survived. We conduct the Mann-Whitney U test using the 'mannwhitneyu()' function, passing in the two groups of samples. Finally, we print the resulting test statistic and p-value.\n",
    "\n",
    "In the given result, the Mann-Whitney U statistic is 57682.0, which is a measure of the degree of difference between the two groups being compared. This value indicates that there is some difference between the distributions of the two groups, but it is not large enough to be considered statistically significant.\n",
    "\n",
    "The p-value in the result indicates the probability of observing such a difference in the Mann-Whitney U statistic by chance. A p-value less than 0.05 is usually considered statistically significant, but since the p-value, in this case, is greater than 0.05, we cannot reject the null hypothesis that there is no difference between the two groups."
   ]
  }
 ],
 "metadata": {
  "kernelspec": {
   "display_name": "Python 3",
   "language": "python",
   "name": "python3"
  },
  "language_info": {
   "codemirror_mode": {
    "name": "ipython",
    "version": 3
   },
   "file_extension": ".py",
   "mimetype": "text/x-python",
   "name": "python",
   "nbconvert_exporter": "python",
   "pygments_lexer": "ipython3",
   "version": "3.11.9"
  }
 },
 "nbformat": 4,
 "nbformat_minor": 2
}
